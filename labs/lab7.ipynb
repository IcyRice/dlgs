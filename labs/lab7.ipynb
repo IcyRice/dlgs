{
 "cells": [
  {
   "cell_type": "markdown",
   "metadata": {
    "id": "0V9I6y4g9zrj",
    "pycharm": {
     "name": "#%% md\n"
    }
   },
   "source": [
    "# Genetic Algorithms with DEAP\n",
    "\n",
    "Source: [Kevin Sikorski](https://colab.research.google.com/github/jfogarty/machine-learning-intro-workshop/blob/master/notebooks/genetic-algorithms-with-deap.ipynb)\n",
    "\n",
    "In this lab, we will first learn how to use a simple and easy-to-use implementation of a Genetic Algorithm using DEAP library in Python.\n",
    "Then you'll write code that optimised position in artificial landscapes, use GA on a simple neuralnet to control a game, and use Hebbian Learning to implement simple logic gates."
   ]
  },
  {
   "cell_type": "markdown",
   "metadata": {
    "id": "BSZa4hf3qyRO",
    "pycharm": {
     "name": "#%% md\n"
    }
   },
   "source": [
    "# Terminology\n",
    "\n",
    "### Individual\n",
    "Genetic Algorithms make use of an analogy to genetics, where we use a population of randomly generated individuals, each with some genetic code.  This code represents a potential solution to the problem.  The representation of the solution depends on the particular problem we are addressing, but it generally consists of a data structure.  It could contain one or more strings like \"ACGTCACTCGGATGC\" if we are dealing with DNA, real-valued data if we are dealing with vectors, arbitrary and mutually-exclusive concepts like \"January\", \"February\", and \"December\", or anything else. \n",
    "\n",
    "### Fitness \n",
    "Since these solutions are chosen at random, some are better than others.  We need to be able to evaluate how good a particular solution is.  We do this by defining a fitness function (called an evaulation function in the example below).  This takes in an individual or its genetic code, and outputs a scalar number that allows us to compare fitness between individuals.\n",
    "\n",
    "### Mutation\n",
    "In the real world, genetic code mutates due to random events like cosmic rays and nuclear decay, or due to random transcription errors.  We simulate this in genetic algorithms with a mutation rate.  Here with a low probability, we randomly change one or more elements of the genetic code of an individual.  This might be changing a number encoded in it (either a little or a lot), flipping a bit in a string, or randomizing the month in a date-time field.\n",
    "\n",
    "### Crossover\n",
    "In the real world, mating between individuals produces offspring with genetic code that is a combination of the parents.  This is simulated with crossover.  In the first diagram below we show two parents at the top, each with different genetic material.  Two offspring are shown below, each the product of crossover.  The parent's genetic code is broken at a randomly selected point.  The right half of the red parent is attached to the left half of the blue parent to produce one offspring's genes; the remaining pieces are similarly concatenated to make the other offspring's genes.\n",
    "\n",
    "Geometrically, you can think of crossover as a projection of one parent's genetic code to a random plane in the search space that contains the other parent's genetic code.  (This plane will also be aligned with one of the basis vectors of the genetic code.)  The Crossover as projection diagram below shows an example involving two parents in magenta with genetic code (0,0) and (1,1).  When crossover occurs, we produce the cyan individuals with genetic code (0,1) and (1,0) by taking the first element from one parent and the second element from the second parent.  Or phrased geometrically, by projecting one parent's point to the Y-axis (the basis vector for the second element of the genetic code), and the the other parent's point to the X-axis."
   ]
  },
  {
   "cell_type": "code",
   "execution_count": 1,
   "metadata": {
    "colab": {
     "base_uri": "https://localhost:8080/",
     "height": 281
    },
    "id": "NCUOiAsN2uhD",
    "outputId": "ca3d51a9-0442-49a6-c1fb-dfbeda0cf49d",
    "pycharm": {
     "name": "#%%\n"
    }
   },
   "outputs": [
    {
     "data": {
      "image/png": "[encoded data removed]",
      "text/plain": [
       "<Figure size 640x480 with 2 Axes>"
      ]
     },
     "metadata": {},
     "output_type": "display_data"
    }
   ],
   "source": [
    "import matplotlib.pyplot as plt\n",
    "\n",
    "plt.subplot(1,2,1)\n",
    "plt.title(\"Crossover\")\n",
    "fig=plt.plot((0, 1), (5, 5), linewidth=5, color='b')\n",
    "fig=plt.plot((0, 1), (4, 4), linewidth=5, color='r')\n",
    "fig=plt.plot((0, 0.6), (2, 2), linewidth=5, color='b')\n",
    "fig=plt.plot((0, 0.6), (1, 1), linewidth=5, color='r')\n",
    "fig=plt.plot((0.6, 1), (1, 1), linewidth=5, color='b')\n",
    "fig=plt.plot((0.6, 1), (2, 2), linewidth=5, color='r')\n",
    "\n",
    "plt.subplot(1,2,2)\n",
    "plt.scatter([0, 1], [0,1], color='m', lw=3)\n",
    "plt.scatter([1, 0], [0,1], color='c', lw=3)\n",
    "plt.title(\"Crossover as projection\")\n",
    "\n",
    "plt.show()"
   ]
  },
  {
   "cell_type": "markdown",
   "metadata": {
    "id": "MQo4tsn4-PoP",
    "pycharm": {
     "name": "#%% md\n"
    }
   },
   "source": [
    "# One Max Problem\n",
    "This example will help new users to overview some of the DEAP framework’s possibilities and illustrate the potential of evolutionary algorithms in general. The problem itself is both very simple and widely used in the evolutionary computational community. We will create a population of individuals consisting of integer vectors randomly filled with 0 and 1. Then we let our population evolve until one of its members contains only 1 and no 0 anymore.\n"
   ]
  },
  {
   "cell_type": "code",
   "execution_count": 2,
   "metadata": {
    "colab": {
     "base_uri": "https://localhost:8080/"
    },
    "id": "n1TlDbXM9YBy",
    "outputId": "2bf3c5c0-5303-4c04-ed50-dca816eb88b4",
    "pycharm": {
     "name": "#%%\n"
    }
   },
   "outputs": [
    {
     "name": "stdout",
     "output_type": "stream",
     "text": [
      "Requirement already satisfied: deap in c:\\users\\rasmus\\appdata\\local\\packages\\pythonsoftwarefoundation.python.3.10_qbz5n2kfra8p0\\localcache\\local-packages\\python310\\site-packages (1.3.3)\n",
      "Requirement already satisfied: numpy in c:\\users\\rasmus\\appdata\\local\\packages\\pythonsoftwarefoundation.python.3.10_qbz5n2kfra8p0\\localcache\\local-packages\\python310\\site-packages (from deap) (1.22.2)\n"
     ]
    },
    {
     "name": "stderr",
     "output_type": "stream",
     "text": [
      "\n",
      "[notice] A new release of pip available: 22.2.2 -> 22.3\n",
      "[notice] To update, run: C:\\Users\\Rasmus\\AppData\\Local\\Microsoft\\WindowsApps\\PythonSoftwareFoundation.Python.3.10_qbz5n2kfra8p0\\python.exe -m pip install --upgrade pip\n"
     ]
    }
   ],
   "source": [
    "import random\n",
    "\n",
    "!pip install deap\n",
    "from deap import base\n",
    "from deap import creator\n",
    "from deap import tools\n",
    "  "
   ]
  },
  {
   "cell_type": "markdown",
   "metadata": {
    "id": "5j5Cu17P-Wf9",
    "pycharm": {
     "name": "#%% md\n"
    }
   },
   "source": [
    "## Creator\n",
    "Since the actual structure of the required individuals in genetic algorithms does strongly depend on the task at hand, DEAP does not contain any explicit structure. It will rather provide a convenient method for creating containers of attributes, associated with fitnesses, called the deap.creator. Using this method we can create custom individuals in a very simple way.\n",
    "\n",
    "The creator is a class factory that can build new classes at run-time. It will be called with first the desired name of the new class, second the base class it will inherit, and in addition any subsequent arguments you want to become attributes of your class. This allows us to build new and complex structures of any type of container from lists to n-ary trees."
   ]
  },
  {
   "cell_type": "code",
   "execution_count": 3,
   "metadata": {
    "id": "ZFeTYVBn-XCY",
    "pycharm": {
     "name": "#%%\n"
    }
   },
   "outputs": [],
   "source": [
    "creator.create(\"FitnessMax\", base.Fitness, weights=(1.0,))\n",
    "creator.create(\"Individual\", list, fitness=creator.FitnessMax)"
   ]
  },
  {
   "cell_type": "markdown",
   "metadata": {
    "id": "vi1UTZS1-cdv",
    "pycharm": {
     "name": "#%% md\n"
    }
   },
   "source": [
    "First we will define the class FitnessMax. It will inherit the Fitness class of the deap.base module and contain an additional attribute called weights. Please mind the value of weights to be the tuple (1.0,). This way we will be maximizing a single objective fitness. We can’t repeat it enough, in DEAP single objectives is a special case of multi objectives.\n",
    "\n",
    "Next we will create the class Individual, which will inherit the class list and contain our previously defined FitnessMax class in its fitness attribute. Note that upon creation all our defined classes will be part of the creator container and can be called directly.\n",
    "\n",
    "## Toolbox\n",
    "Now we will use our custom classes to create types representing our individuals as well as our whole population.\n",
    "\n",
    "All the objects we will use on our way, an individual, the population, as well as all functions, operators, and arguments will be stored in a DEAP container called Toolbox. It contains two methods for adding and removing content, register() and unregister()."
   ]
  },
  {
   "cell_type": "code",
   "execution_count": 4,
   "metadata": {
    "id": "HS3iXNSW-gS8",
    "pycharm": {
     "name": "#%%\n"
    }
   },
   "outputs": [],
   "source": [
    "toolbox = base.Toolbox()\n",
    "# Attribute generator \n",
    "toolbox.register(\"attr_bool\", random.randint, 0, 1)\n",
    "# Structure initializers\n",
    "toolbox.register(\"individual\", tools.initRepeat, creator.Individual, \n",
    "    toolbox.attr_bool, 100)\n",
    "toolbox.register(\"population\", tools.initRepeat, list, toolbox.individual)"
   ]
  },
  {
   "cell_type": "markdown",
   "metadata": {
    "id": "JO9v6Wx_-jam",
    "pycharm": {
     "name": "#%% md\n"
    }
   },
   "source": [
    "In this code block we register a generation function toolbox.attr_bool() and two initialization ones individual() and population(). toolbox.attr_bool(), when called, will draw a random integer between 0 and 1. The two initializers, on the other hand, will instantiate an individual or population.\n",
    "\n",
    "The registration of the tools to the toolbox only associates aliases to the already existing functions and freezes part of their arguments. This allows us to fix an arbitrary amount of argument at certain values so we only have to specify the remaining ones when calling the method. For example, the attr_bool() generator is made from the randint() function that takes two arguments a and b, with a <= n <= b, where n is the returned integer. Here, we fix a = 0 and b = 1.\n",
    "\n",
    "Our individuals will be generated using the function initRepeat(). Its first argument is a container class, in our example the Individual one we defined in the previous section. This container will be filled using the method attr_bool(), provided as second argument, and will contain 100 integers, as specified using the third argument. When called, the individual() method will thus return an individual initialized with what would be returned by calling the attr_bool() method 100 times. Finally, the population() method uses the same paradigm, but we don’t fix the number of individuals that it should contain.\n",
    "\n",
    "## The Evaluation Function\n",
    "The evaluation function is pretty simple in our example. We just need to count the number of ones in an individual."
   ]
  },
  {
   "cell_type": "code",
   "execution_count": 5,
   "metadata": {
    "colab": {
     "base_uri": "https://localhost:8080/"
    },
    "id": "s9XjIzai-lvs",
    "outputId": "83d25dd8-66a7-457c-c3c6-4e0121940702",
    "pycharm": {
     "name": "#%%\n"
    }
   },
   "outputs": [
    {
     "name": "stdout",
     "output_type": "stream",
     "text": [
      "(0,)\n",
      "(2,)\n",
      "(4,)\n"
     ]
    }
   ],
   "source": [
    "def evalOneMax(individual):\n",
    "    return sum(individual),\n",
    "  \n",
    "print(evalOneMax([0,0,0,0]))\n",
    "print(evalOneMax([0,1,0,1]))\n",
    "print(evalOneMax([1,1,1,1]))\n"
   ]
  },
  {
   "cell_type": "markdown",
   "metadata": {
    "id": "vhwe8gl3-nVT",
    "pycharm": {
     "name": "#%% md\n"
    }
   },
   "source": [
    "## The Genetic Operators\n",
    "Within DEAP there are two ways of using operators. We can either simply call a function from the tools module or register it with its arguments in a toolbox, as we have already seen for our initialization methods. The most convenient way, however, is to register them in the toolbox, because this allows us to easily switch between the operators if desired. The toolbox method is also used when working with the algorithms module. See the [One Max Problem: Short Version](https://deap.readthedocs.io/en/master/examples/ga_onemax_short.html#short-ga-onemax) for an example.\n",
    "\n",
    "Registering the genetic operators required for the evolution in our One Max problem and their default arguments in the toolbox is done as follows."
   ]
  },
  {
   "cell_type": "code",
   "execution_count": 6,
   "metadata": {
    "id": "AoLoTIuj-ppU",
    "pycharm": {
     "name": "#%%\n"
    }
   },
   "outputs": [],
   "source": [
    "toolbox.register(\"evaluate\", evalOneMax)\n",
    "toolbox.register(\"mate\", tools.cxTwoPoint)\n",
    "toolbox.register(\"mutate\", tools.mutFlipBit, indpb=0.05)\n",
    "toolbox.register(\"select\", tools.selTournament, tournsize=3)"
   ]
  },
  {
   "cell_type": "markdown",
   "metadata": {
    "id": "pzSud0CF-q_y",
    "pycharm": {
     "name": "#%% md\n"
    }
   },
   "source": [
    "The evaluation will be performed by calling the alias evaluate. It is important to not fix its argument in here. We will need it later on to apply the function to each separate individual in our population. The mutation, on the other hand, needs an argument to be fixed (the independent probability of each attribute to be mutated indpb).\n",
    "\n",
    "## Evolving the Population\n",
    "Once the representation and the genetic operators are chosen, we will define an algorithm combining all the individual parts and performing the evolution of our population until the One Max problem is solved.\n",
    "\n",
    "## Creating the Population\n",
    "First of all, we need to actually instantiate our population. But this step is effortlessly done using the population() method we registered in our toolbox earlier on."
   ]
  },
  {
   "cell_type": "code",
   "execution_count": 7,
   "metadata": {
    "id": "F30uZtcp-u79",
    "pycharm": {
     "name": "#%%\n"
    }
   },
   "outputs": [],
   "source": [
    "pop = toolbox.population(n=300)\n",
    "\n",
    "# Evaluate the entire population\n",
    "fitnesses = list(map(toolbox.evaluate, pop))\n",
    "for ind, fit in zip(pop, fitnesses):\n",
    "    ind.fitness.values = fit\n"
   ]
  },
  {
   "cell_type": "markdown",
   "metadata": {
    "id": "bUw_9gTr-wjK",
    "pycharm": {
     "name": "#%% md\n"
    }
   },
   "source": [
    "**pop** will be a list composed of 300 individuals. Since we left the parameter **n** open during the registration of the population() method in our toolbox, we are free to create populations of arbitrary size.\n",
    "\n",
    "Before we go on, this is the time to define some constants we will use later on."
   ]
  },
  {
   "cell_type": "code",
   "execution_count": 8,
   "metadata": {
    "id": "Dx5L38zU-x1H",
    "pycharm": {
     "name": "#%%\n"
    }
   },
   "outputs": [],
   "source": [
    "# CXPB  is the probability with which two individuals\n",
    "#       are crossed\n",
    "#\n",
    "# MUTPB is the probability for mutating an individual\n",
    "CXPB, MUTPB = 0.5, 0.2"
   ]
  },
  {
   "cell_type": "markdown",
   "metadata": {
    "id": "V1QT9wKN-2E8",
    "pycharm": {
     "name": "#%% md\n"
    }
   },
   "source": [
    "## Evaluating the Population\n",
    "The next thing to do is to evaluate our brand new population.  We map() the evaluation function to every individual and then assign their respective fitness. Note that the order in fitnesses and population is the same.\n",
    "\n",
    "The evolution of the population is the final step we have to accomplish. Recall, our individuals consist of 100 integer numbers and we want to evolve our population until we got at least one individual consisting of only 1s and no 0s. So all we have to do is to obtain the fitness values of the individuals!\n",
    "\n",
    "To check the performance of the evolution, we will calculate and print the minimal, maximal, and mean values of the fitnesses of all individuals in our population as well as their standard deviations."
   ]
  },
  {
   "cell_type": "code",
   "execution_count": 9,
   "metadata": {
    "colab": {
     "base_uri": "https://localhost:8080/"
    },
    "id": "PtryFa_TJxWa",
    "outputId": "24d864d4-9ee9-4d7a-95df-a67978dd3024",
    "pycharm": {
     "name": "#%%\n"
    }
   },
   "outputs": [
    {
     "name": "stdout",
     "output_type": "stream",
     "text": [
      "  Min 34.0\n",
      "  Max 64.0\n",
      "  Avg 49.77333333333333\n",
      "  Std 5.036065483644463\n"
     ]
    }
   ],
   "source": [
    "def findFitness():\n",
    "    fits = [ind.fitness.values[0] for ind in pop]\n",
    "        \n",
    "    length = len(pop)\n",
    "    mean = sum(fits) / length\n",
    "    sum2 = sum(x*x for x in fits)\n",
    "    std = abs(sum2 / length - mean**2)**0.5\n",
    "\n",
    "    print(\"  Min %s\" % min(fits))\n",
    "    print(\"  Max %s\" % max(fits))\n",
    "    print(\"  Avg %s\" % mean)\n",
    "    print(\"  Std %s\" % std)\n",
    "    return fits\n",
    "    \n",
    "fits=findFitness()"
   ]
  },
  {
   "cell_type": "markdown",
   "metadata": {
    "id": "Dfh6gnNQ-5Wy",
    "pycharm": {
     "name": "#%% md\n"
    }
   },
   "source": [
    "## Mating and Mutation\n",
    "\n",
    "In genetic algorithms, evolution occurs via either mutation or crossover, both of which happen (or don't happen) randomly.  In mutation, we change one or more of the genes of one of our individuals.  In cross-over, two individuals are mated to mix their genes.\n",
    "\n",
    "The crossover (or mating) and mutation operators, provided within DEAP, usually take respectively 2 or 1 individual(s) as input and return 2 or 1 modified individual(s). In addition they modify those individuals within the toolbox container and we do not need to reassign their results.\n",
    "\n",
    "We will perform both the crossover (mating) and the mutation of the produced children with a certain probability of CXPB and MUTPB. The del statement will invalidate the fitness of the modified offspring."
   ]
  },
  {
   "cell_type": "code",
   "execution_count": 10,
   "metadata": {
    "id": "M6ssqRncEIDN",
    "pycharm": {
     "name": "#%%\n"
    }
   },
   "outputs": [],
   "source": [
    "def mateAndMutate(offspring):\n",
    "    for child1, child2 in zip(offspring[::2], offspring[1::2]):\n",
    "        if random.random() < CXPB:\n",
    "            toolbox.mate(child1, child2)\n",
    "            del child1.fitness.values\n",
    "            del child2.fitness.values\n",
    "\n",
    "    for mutant in offspring:\n",
    "        if random.random() < MUTPB:\n",
    "            toolbox.mutate(mutant)\n",
    "            del mutant.fitness.values\n",
    "            \n"
   ]
  },
  {
   "cell_type": "markdown",
   "metadata": {
    "id": "mEOPfK92--q-",
    "pycharm": {
     "name": "#%% md\n"
    }
   },
   "source": [
    "## The Main Loop\n",
    "\n",
    "This will creates an offspring list, which is an exact copy of the selected individuals. The toolbox.clone() method ensure that we don’t use a reference to the individuals but an completely independent instance. This is of utter importance since the genetic operators in toolbox will modify the provided objects in-place.\n",
    "\n",
    "We then mutate and mate the individuals to find the next generation of individuals.  We evaluate them, and continue until one of our individuals evolves to be the perfect organism (fitness of 100 or more), or until the number of generations reaches 1000.\n",
    "\n",
    "At each generation, we output some statistics about that generation's population, as well as a graph of the genetic material for an arbitrary individual.  A 0 in the genetic material is drawn in red, and a 1 is drawn in blue."
   ]
  },
  {
   "cell_type": "code",
   "execution_count": null,
   "metadata": {
    "colab": {
     "base_uri": "https://localhost:8080/",
     "height": 1000
    },
    "id": "Df-rsxoX-6vj",
    "outputId": "36264f12-cbce-41a3-f8fe-9ce3018a17a6",
    "pycharm": {
     "name": "#%%\n"
    }
   },
   "outputs": [],
   "source": [
    "import numpy as np\n",
    "# Variable keeping track of the number of generations\n",
    "g = 0\n",
    "\n",
    "# Begin the evolution\n",
    "while max(fits) < 100 and g < 1000:\n",
    "    # A new generation\n",
    "    g = g + 1\n",
    "    print(\"-- Generation %i --\" % g)\n",
    "    # Select the next generation individuals\n",
    "    offspring = toolbox.select(pop, len(pop))\n",
    "    # Clone the selected individuals\n",
    "    offspring = list(map(toolbox.clone, offspring))\n",
    "    \n",
    "    # Apply crossover and mutation on the offspring\n",
    "    mateAndMutate(offspring)\n",
    "    \n",
    "    # Evaluate the individuals with an invalid fitness\n",
    "    invalid_ind = [ind for ind in offspring if not ind.fitness.valid]\n",
    "    fitnesses = map(toolbox.evaluate, invalid_ind)\n",
    "    for ind, fit in zip(invalid_ind, fitnesses):\n",
    "        ind.fitness.values = fit\n",
    "    pop[:] = offspring\n",
    "    \n",
    "    # print statistics on our updated population\n",
    "    fits=findFitness()\n",
    "\n",
    "    # plot an arbitrary organism\n",
    "    x = [i/100 for i in range(len(pop[0]))]\n",
    "    y = [1 for i in x]\n",
    "    colors = ['r' if pop[0][i]==0 else 'b' for i in range(len(pop[0]))]\n",
    "    plt.scatter(x, y, c=colors, alpha=0.5)\n",
    "    plt.show()\n",
    "plt.scatter(x,y, c=colors, alpha=.5)\n",
    "plt.show()"
   ]
  },
  {
   "cell_type": "markdown",
   "metadata": {
    "id": "Cot8XdQGq5Fq",
    "pycharm": {
     "name": "#%% md\n"
    }
   },
   "source": [
    "# Your tasks:\n",
    "This lab *is* fairly open-ended. I look forward to seeing what you come up with:\n",
    "\n",
    "## 1. Find optimum with ES.\n",
    "Chose an [artificial landscape](https://en.wikipedia.org/wiki/Test_functions_for_optimization). Find optimum using an evolutionary strategy we talked about in class."
   ]
  },
  {
   "cell_type": "code",
   "execution_count": 26,
   "metadata": {
    "collapsed": false,
    "pycharm": {
     "name": "#%%\n"
    }
   },
   "outputs": [
    {
     "data": {
      "text/plain": [
       "[<matplotlib.lines.Line2D at 0x21faeed6350>]"
      ]
     },
     "execution_count": 26,
     "metadata": {},
     "output_type": "execute_result"
    },
    {
     "data": {
      "image/png": "[encoded data removed]",
      "text/plain": [
       "<Figure size 640x480 with 1 Axes>"
      ]
     },
     "metadata": {},
     "output_type": "display_data"
    }
   ],
   "source": [
    "import numpy as np\n",
    "import random\n",
    "from deap import base\n",
    "from deap import creator\n",
    "from deap import tools\n",
    "import gym\n",
    "import matplotlib.pyplot as plt\n",
    "\n",
    "\n",
    "# Your code here\n",
    "# Matyas function:\n",
    "#       f(x, y) = 0.26 * (x**2 + y**2) - (0.48 * x * y)\n",
    "# global min:\n",
    "#       f(0,0) = 0\n",
    "# search domain:\n",
    "#       -10 <= x,y <= 10\n",
    "\n",
    "#def fitnessEval():\n",
    "#    return\n",
    "#\n",
    "#creator.create(\"FitnessMax\", base.Fitness, weights=(1.0,))\n",
    "#creator.create(\"Individual\", list, fitness=creator.FitnessMax)\n",
    "\n",
    "\n",
    "popSize = 100\n",
    "spread = 1\n",
    "\n",
    "# eval function \n",
    "def matyas(x,y):\n",
    "    return 0.26 * (x**2 + y**2) - (0.48 * x * y)\n",
    "\n",
    "def eval(i):\n",
    "    return matyas(i[0], i[1])\n",
    "\n",
    "def mutate(x, y):\n",
    "    x = x + (random.randint(-5, 5) / 10)\n",
    "    y = y + (random.randint(-5, 5) / 10)\n",
    "    return (x, y)\n",
    "\n",
    "#'best' is overwritten by best off-spring and is carried over between generations\n",
    "best = (99, 99) \n",
    "\n",
    "\n",
    "#put random pairs into the pop list\n",
    "\n",
    "def generatePop():\n",
    "    population = []\n",
    "    for i in range(popSize):\n",
    "        x = best[0] + (random.uniform(-spread, spread))\n",
    "        y = best[1] + (random.uniform(-spread, spread))\n",
    "        #newpoint = (x, y)\n",
    "        population.append((x, y))\n",
    "    return population\n",
    "\n",
    "#evalBest = matyas(best[0], best[1])\n",
    "\n",
    "generations = 200\n",
    "initPop = generatePop()\n",
    "ys = [] # for plotting\n",
    "\n",
    "for i in range(generations):\n",
    "    for j in initPop:\n",
    "        if eval(j) < eval(best):\n",
    "            best = j        # overwrite \"best\" with the newfound minimum\n",
    "    initPop = generatePop() # overwrite initial population with the new generation\n",
    "    ys.append(eval(best))   # add best member of generation to plot\n",
    "\n",
    "plt.plot(ys)\n"
   ]
  },
  {
   "cell_type": "code",
   "execution_count": 1,
   "metadata": {},
   "outputs": [
    {
     "name": "stdout",
     "output_type": "stream",
     "text": [
      "   Min -2241.831325004506\n",
      "   Max 95.94585883690831\n",
      "   Avg -524.7761858898155\n",
      "   Std 569.0274780053709\n",
      "-- Generation 1 --\n",
      "   Min -2241.831325004506\n",
      "   Max 85.30846618426118\n",
      "   Avg -505.24263104908533\n",
      "   Std 618.1006083779466\n",
      "-- Generation 2 --\n",
      "   Min -2241.831325004506\n",
      "   Max 93.08624306042047\n",
      "   Avg -463.64808060721435\n",
      "   Std 611.4365195523901\n",
      "-- Generation 3 --\n",
      "   Min -2241.831325004506\n",
      "   Max 93.08624306042047\n",
      "   Avg -355.39655180540103\n",
      "   Std 551.6157812036184\n",
      "-- Generation 4 --\n",
      "   Min -2144.5609996810294\n",
      "   Max 99.78398858993421\n",
      "   Avg -292.35469373261157\n",
      "   Std 494.0175441497798\n",
      "-- Generation 5 --\n",
      "   Min -2144.5609996810294\n",
      "   Max 99.02940122894609\n",
      "   Avg -292.6100723003902\n",
      "   Std 530.9119429959823\n",
      "-- Generation 6 --\n",
      "   Min -2144.5609996810294\n",
      "   Max 99.78398858993421\n",
      "   Avg -220.99197461085748\n",
      "   Std 468.3675500701311\n",
      "-- Generation 7 --\n",
      "   Min -2144.5609996810294\n",
      "   Max 99.78398858993421\n",
      "   Avg -210.08054477378005\n",
      "   Std 411.7013925136175\n",
      "-- Generation 8 --\n",
      "   Min -2144.5609996810294\n",
      "   Max 99.02940122894609\n",
      "   Avg -223.4589484043686\n",
      "   Std 418.61847050696167\n",
      "-- Generation 9 --\n",
      "   Min -2131.609366049362\n",
      "   Max 99.91286767912348\n",
      "   Avg -269.8524505498119\n",
      "   Std 470.1462566849986\n",
      "-- Generation 10 --\n",
      "   Min -2131.609366049362\n",
      "   Max 99.19600345019296\n",
      "   Avg -289.14045175508255\n",
      "   Std 491.2118245034261\n",
      "-- Generation 11 --\n",
      "   Min -2131.609366049362\n",
      "   Max 99.19600345019296\n",
      "   Avg -292.5026977218861\n",
      "   Std 509.0974736227799\n",
      "-- Generation 12 --\n",
      "   Min -2144.5609996810294\n",
      "   Max 99.83424042988212\n",
      "   Avg -268.66583505298547\n",
      "   Std 486.03478228557515\n",
      "-- Generation 13 --\n",
      "   Min -2144.5609996810294\n",
      "   Max 99.83424042988212\n",
      "   Avg -269.0335326507446\n",
      "   Std 492.9298242379207\n",
      "-- Generation 14 --\n",
      "   Min -2144.5609996810294\n",
      "   Max 98.96833577251263\n",
      "   Avg -294.5659508200027\n",
      "   Std 509.0951439786514\n",
      "-- Generation 15 --\n",
      "   Min -2144.5609996810294\n",
      "   Max 99.42326057391053\n",
      "   Avg -238.34938411725778\n",
      "   Std 404.74983904991814\n",
      "-- Generation 16 --\n",
      "   Min -2144.5609996810294\n",
      "   Max 99.42326057391053\n",
      "   Avg -225.16045064444054\n",
      "   Std 421.01272908988796\n",
      "-- Generation 17 --\n",
      "   Min -2070.535270392964\n",
      "   Max 99.35634762653525\n",
      "   Avg -184.83256646431838\n",
      "   Std 319.98340287774613\n",
      "-- Generation 18 --\n",
      "   Min -2070.535270392964\n",
      "   Max 99.8125790706645\n",
      "   Avg -168.82812445850897\n",
      "   Std 334.4033085083327\n",
      "-- Generation 19 --\n",
      "   Min -2070.535270392964\n",
      "   Max 99.98020099161508\n",
      "   Avg -207.12474943970676\n",
      "   Std 370.06623982603526\n",
      "-- Generation 20 --\n",
      "   Min -2163.111195689567\n",
      "   Max 99.42326057391053\n",
      "   Avg -240.75445748887952\n",
      "   Std 425.4903986154176\n",
      "-- Generation 21 --\n",
      "   Min -2163.111195689567\n",
      "   Max 99.42326057391053\n",
      "   Avg -285.6269701080918\n",
      "   Std 483.0298885634145\n",
      "-- Generation 22 --\n",
      "   Min -2163.111195689567\n",
      "   Max 99.98020099161508\n",
      "   Avg -214.94652937289393\n",
      "   Std 399.00615320904393\n",
      "-- Generation 23 --\n",
      "   Min -1740.2107068112625\n",
      "   Max 99.98020099161508\n",
      "   Avg -166.52457479897788\n",
      "   Std 335.8090816231386\n",
      "-- Generation 24 --\n",
      "   Min -1586.3124606939637\n",
      "   Max 99.98020099161508\n",
      "   Avg -165.87235890705472\n",
      "   Std 319.1820394190534\n",
      "-- Generation 25 --\n",
      "   Min -1740.2107068112625\n",
      "   Max 99.98020099161508\n",
      "   Avg -183.73915472040682\n",
      "   Std 346.57528823814295\n",
      "-- Generation 26 --\n",
      "   Min -1740.2107068112625\n",
      "   Max 99.98020099161508\n",
      "   Avg -160.5393236459827\n",
      "   Std 325.88747123019857\n",
      "-- Generation 27 --\n",
      "   Min -2061.867521701948\n",
      "   Max 99.98020099161508\n",
      "   Avg -165.7136597084369\n",
      "   Std 330.6295660122248\n",
      "-- Generation 28 --\n",
      "   Min -1581.6942896210317\n",
      "   Max 99.42326057391053\n",
      "   Avg -176.3371328035624\n",
      "   Std 280.65084222729547\n",
      "-- Generation 29 --\n",
      "   Min -2133.6707308696336\n",
      "   Max 99.42326057391053\n",
      "   Avg -246.81371217124234\n",
      "   Std 442.6188924975363\n",
      "-- Generation 30 --\n",
      "   Min -1742.0832880295554\n",
      "   Max 99.98020099161508\n",
      "   Avg -250.38938980095983\n",
      "   Std 382.4626222933945\n",
      "-- Generation 31 --\n",
      "   Min -1806.9200409304858\n",
      "   Max 99.42326057391053\n",
      "   Avg -282.3276443430409\n",
      "   Std 435.05449326403453\n",
      "-- Generation 32 --\n",
      "   Min -2289.6692790250067\n",
      "   Max 99.42326057391053\n",
      "   Avg -315.11740363660886\n",
      "   Std 530.5442470289805\n",
      "-- Generation 33 --\n",
      "   Min -2284.1139458812772\n",
      "   Max 99.98020099161508\n",
      "   Avg -204.89045584916153\n",
      "   Std 441.6645540921585\n",
      "-- Generation 34 --\n",
      "   Min -2284.1139458812772\n",
      "   Max 99.42326057391053\n",
      "   Avg -165.48961297605828\n",
      "   Std 386.6143855584974\n",
      "-- Generation 35 --\n",
      "   Min -2289.6692790250067\n",
      "   Max 99.42326057391053\n",
      "   Avg -153.06352855682204\n",
      "   Std 342.9854989933651\n",
      "-- Generation 36 --\n",
      "   Min -2289.6692790250067\n",
      "   Max 99.42326057391053\n",
      "   Avg -159.33990988524522\n",
      "   Std 359.2435894953953\n",
      "-- Generation 37 --\n",
      "   Min -2284.1139458812772\n",
      "   Max 99.98020099161508\n",
      "   Avg -178.53279311682024\n",
      "   Std 364.3972602494239\n",
      "-- Generation 38 --\n",
      "   Min -2284.1139458812772\n",
      "   Max 99.98020099161508\n",
      "   Avg -202.6127721466316\n",
      "   Std 395.1634227210935\n",
      "-- Generation 39 --\n",
      "   Min -2289.6692790250067\n",
      "   Max 99.98020099161508\n",
      "   Avg -209.48246560112216\n",
      "   Std 426.9155702447192\n",
      "-- Generation 40 --\n",
      "   Min -2304.4595094820943\n",
      "   Max 99.98020099161508\n",
      "   Avg -250.7734215700315\n",
      "   Std 447.7015894152204\n",
      "-- Generation 41 --\n",
      "   Min -2289.6692790250067\n",
      "   Max 99.42326057391053\n",
      "   Avg -243.90759061815467\n",
      "   Std 428.11958524520657\n",
      "-- Generation 42 --\n",
      "   Min -2289.6692790250067\n",
      "   Max 99.42326057391053\n",
      "   Avg -279.87493569774136\n",
      "   Std 459.4381856191276\n",
      "-- Generation 43 --\n",
      "   Min -2315.5380212006216\n",
      "   Max 99.42326057391053\n",
      "   Avg -303.96233438576985\n",
      "   Std 516.1199249014747\n",
      "-- Generation 44 --\n",
      "   Min -2329.984433029879\n",
      "   Max 99.42326057391053\n",
      "   Avg -339.62318824076215\n",
      "   Std 592.2099561845089\n",
      "-- Generation 45 --\n",
      "   Min -2315.5380212006216\n",
      "   Max 99.84879585244259\n",
      "   Avg -228.22682490278177\n",
      "   Std 460.81362955411254\n",
      "-- Generation 46 --\n",
      "   Min -2315.5380212006216\n",
      "   Max 99.83866508638202\n",
      "   Avg -223.61595348237006\n",
      "   Std 431.77193937037276\n",
      "-- Generation 47 --\n",
      "   Min -2315.5380212006216\n",
      "   Max 99.84879585244259\n",
      "   Avg -234.35304110037313\n",
      "   Std 443.4410353940094\n",
      "-- Generation 48 --\n",
      "   Min -2315.5380212006216\n",
      "   Max 99.83866508638202\n",
      "   Avg -244.2301992631873\n",
      "   Std 466.386372634139\n",
      "-- Generation 49 --\n",
      "   Min -2315.5380212006216\n",
      "   Max 99.83866508638202\n",
      "   Avg -236.7925011475555\n",
      "   Std 456.37079311068265\n",
      "-- Generation 50 --\n",
      "   Min -2329.984433029879\n",
      "   Max 99.84879585244259\n",
      "   Avg -285.45657084241697\n",
      "   Std 479.228529761519\n"
     ]
    },
    {
     "data": {
      "text/plain": [
       "[<matplotlib.lines.Line2D at 0x29ab2ee64d0>]"
      ]
     },
     "execution_count": 1,
     "metadata": {},
     "output_type": "execute_result"
    },
    {
     "data": {
      "image/png": "[encoded data removed]",
      "text/plain": [
       "<Figure size 640x480 with 1 Axes>"
      ]
     },
     "metadata": {},
     "output_type": "display_data"
    }
   ],
   "source": [
    "import matplotlib.pyplot as plt\n",
    "import random\n",
    "import numpy as np\n",
    "from deap import base\n",
    "from deap import creator\n",
    "from deap import tools\n",
    "\n",
    "creator.create(\"FitnessMax\", base.Fitness, weights=(1.0,))\n",
    "creator.create(\"Individual\", list, fitness=creator.FitnessMax)\n",
    "\n",
    "toolbox = base.Toolbox()\n",
    "# Attribute generator\n",
    "toolbox.register(\"attr_float\", random.uniform, 0, 99)\n",
    "# Structure initializers\n",
    "toolbox.register(\"individual\", tools.initRepeat, creator.Individual,\n",
    "                 toolbox.attr_float, 2)\n",
    "toolbox.register(\"population\", tools.initRepeat, list, toolbox.individual)\n",
    "\n",
    "\n",
    "# matyas tries to minimize, so we flip eval to return 100 when matyas=0\n",
    "def evalMatyas(ind):\n",
    "    (x, y) = ind\n",
    "    return 100 - ( 0.26 * (x**2 + y**2) - (0.48 * x * y) )\n",
    "\n",
    "\n",
    "def mutate(ind):\n",
    "    (x, y) = ind\n",
    "    x = x + (random.uniform(-5, 5))\n",
    "    y = y + (random.uniform(-5, 5))\n",
    "    return (x, y)\n",
    "\n",
    "\n",
    "toolbox.register(\"evaluate\", evalMatyas)\n",
    "toolbox.register(\"mate\", tools.cxTwoPoint)\n",
    "toolbox.register(\"mutate\", mutate)\n",
    "#toolbox.register(\"select\", tools.selTournament, tournsize=3)\n",
    "toolbox.register(\"select\", tools.selBest)\n",
    "\n",
    "pop = toolbox.population(n=100)\n",
    "\n",
    "# Evaluate the entire population\n",
    "fitnesses = list(map(toolbox.evaluate, pop))\n",
    "for ind, fit in zip(pop, fitnesses):\n",
    "    ind.fitness.values = (fit, )\n",
    "\n",
    "\n",
    "# CXPB = probability of crossing\n",
    "CXPB = 0.5\n",
    "# MUTPB = probability of mutation\n",
    "MUTPB = 0.5\n",
    "\n",
    "\n",
    "def findFitness():\n",
    "    fits = [ind.fitness.values[0] for ind in pop]\n",
    "\n",
    "    length = len(pop)\n",
    "    mean = sum(fits) / length\n",
    "    sum2 = sum(x*x for x in fits)\n",
    "    std = abs(sum2 / length - mean**2)**0.5\n",
    "\n",
    "    print(\"   Min %s\" % min(fits))\n",
    "    print(\"   Max %s\" % max(fits))\n",
    "    print(\"   Avg %s\" % mean)\n",
    "    print(\"   Std %s\" % std)\n",
    "    return fits\n",
    "\n",
    "fits = findFitness()\n",
    "\n",
    "  \n",
    "def mateAndMutate(offspring):\n",
    "    for child1, child2 in zip(offspring[::2], offspring[1::2]):\n",
    "        if random.random() < CXPB:\n",
    "            toolbox.mate(child1, child2)\n",
    "            del child1.fitness.values\n",
    "            del child2.fitness.values\n",
    "\n",
    "    for mutant in offspring:\n",
    "        if random.random() < MUTPB:\n",
    "            toolbox.mutate(mutant)\n",
    "            del mutant.fitness.values\n",
    "\n",
    "\n",
    "# Variable keeping track of the number of generations\n",
    "g = 0\n",
    "ys = []\n",
    "\n",
    "# Begin the evolution\n",
    "while max(fits) < 100 and g < 50:\n",
    "    # A new generation\n",
    "    g = g + 1\n",
    "    print(\"-- Generation %i --\" % g)\n",
    "    # Select the next generation individuals\n",
    "    offspring = toolbox.select(pop, len(pop))\n",
    "    # Clone the selected individuals\n",
    "    offspring = list(map(toolbox.clone, offspring))\n",
    "\n",
    "    # Apply crossover and mutation on the offspring\n",
    "    mateAndMutate(offspring)\n",
    "\n",
    "    # Evaluate the individuals with an invalid fitness\n",
    "    invalid_ind = [ind for ind in offspring if not ind.fitness.valid]\n",
    "    fitnesses = map(toolbox.evaluate, invalid_ind)\n",
    "    for ind, fit in zip(invalid_ind, fitnesses):\n",
    "        ind.fitness.values = (fit, )\n",
    "    pop[:] = offspring\n",
    "\n",
    "    # print statistics on our updated population\n",
    "    fits = findFitness()\n",
    "    # add best member of generation to plot\n",
    "    ys.append(max(fits))\n",
    "\n",
    "plt.plot(ys)\n"
   ]
  },
  {
   "cell_type": "markdown",
   "metadata": {
    "collapsed": false,
    "pycharm": {
     "name": "#%% md\n"
    }
   },
   "source": [
    "## 2. Evolve a simple gaming neural net with GA.\n",
    "Evolve a neural network that plays a game of your choice from `gym` (LunarLander-v2 is cool).\n",
    "We don't need `torch` since we don't care about gradients. We can use numpy—numpy matrices can easily be multiplied.\n",
    "`deap` *can* deal with numpy arrays, though I recommend making functions that map weights to lists and vice versa."
   ]
  },
  {
   "cell_type": "code",
   "execution_count": null,
   "metadata": {
    "collapsed": false,
    "pycharm": {
     "name": "#%%\n"
    }
   },
   "outputs": [],
   "source": [
    "# Your code here"
   ]
  },
  {
   "cell_type": "markdown",
   "metadata": {
    "collapsed": false,
    "pycharm": {
     "name": "#%% md\n"
    }
   },
   "source": [
    "## 3. Implement Hebbian Learning on AND and OR logic gates.\n",
    "Make functions that given an input of the kind `[1,1,0]`, `[0,0,0]`, etc.:\n",
    "1. Returns 1 if input is all ones, otherwise 0 (AND).\n",
    "2. Returns 1 if at least one element is 1, otherwise 0 (OR).\n",
    "3. Optional: XOR."
   ]
  },
  {
   "cell_type": "code",
   "execution_count": null,
   "metadata": {
    "collapsed": false,
    "pycharm": {
     "name": "#%%\n"
    }
   },
   "outputs": [],
   "source": [
    "# Your code"
   ]
  },
  {
   "cell_type": "markdown",
   "metadata": {
    "collapsed": false,
    "pycharm": {
     "name": "#%% md\n"
    }
   },
   "source": [
    "## Optional (and awesome): Do Hebbian Learning over Reinforcement Learning for the Lunar Lander from gym (LunarLander-v2).\n",
    "![](https://www.gymlibrary.dev/_images/lunar_lander.gif)"
   ]
  },
  {
   "cell_type": "code",
   "execution_count": null,
   "metadata": {
    "collapsed": false,
    "pycharm": {
     "name": "#%%\n"
    }
   },
   "outputs": [],
   "source": [
    "# Your code"
   ]
  }
 ],
 "metadata": {
  "colab": {
   "name": "lab.ipynb",
   "provenance": []
  },
  "kernelspec": {
   "display_name": "Python 3.10.7 64-bit (microsoft store)",
   "language": "python",
   "name": "python3"
  },
  "language_info": {
   "codemirror_mode": {
    "name": "ipython",
    "version": 3
   },
   "file_extension": ".py",
   "mimetype": "text/x-python",
   "name": "python",
   "nbconvert_exporter": "python",
   "pygments_lexer": "ipython3",
   "version": "3.10.8"
  },
  "vscode": {
   "interpreter": {
    "hash": "e9b05f680f6df7b8d22e2f5c74b9f0ef195da5195e5f198ec925371741da49e2"
   }
  }
 },
 "nbformat": 4,
 "nbformat_minor": 0
}
