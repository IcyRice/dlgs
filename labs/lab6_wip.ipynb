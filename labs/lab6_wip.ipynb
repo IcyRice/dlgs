{
  "nbformat": 4,
  "nbformat_minor": 0,
  "metadata": {
    "kernelspec": {
      "display_name": "Python 3",
      "language": "python",
      "name": "python3"
    },
    "language_info": {
      "codemirror_mode": {
        "name": "ipython",
        "version": 3
      },
      "file_extension": ".py",
      "mimetype": "text/x-python",
      "name": "python",
      "nbconvert_exporter": "python",
      "pygments_lexer": "ipython3",
      "version": "3.6.3"
    },
    "colab": {
      "name": "Untitled.ipynb",
      "provenance": [],
      "include_colab_link": true
    }
  },
  "cells": [
    {
      "cell_type": "markdown",
      "metadata": {
        "id": "view-in-github",
        "colab_type": "text"
      },
      "source": [
        "<a href=\"https://colab.research.google.com/github/IcyRice/dlgs/blob/master/labs/lab6_wip.ipynb\" target=\"_parent\"><img src=\"https://colab.research.google.com/assets/colab-badge.svg\" alt=\"Open In Colab\"/></a>"
      ]
    },
    {
      "cell_type": "markdown",
      "metadata": {
        "id": "qyVJJbUL_Haz"
      },
      "source": [
        "## Example to load the network, sample 4 levels at random from the latent space and then plot them using matplotlib.\n"
      ]
    },
    {
      "cell_type": "code",
      "metadata": {
        "colab": {
          "base_uri": "https://localhost:8080/"
        },
        "id": "iq2ct6jZ_a7G",
        "outputId": "1b3b3d2c-8b9e-43ba-de0a-cdcea75779b6"
      },
      "source": [
        "from google.colab import drive\n",
        "drive.mount('/content/drive')"
      ],
      "execution_count": null,
      "outputs": [
        {
          "output_type": "stream",
          "name": "stdout",
          "text": [
            "Mounted at /content/drive\n"
          ]
        }
      ]
    },
    {
      "cell_type": "code",
      "source": [
        "!ls"
      ],
      "metadata": {
        "id": "utAMUAFJ_ZMV",
        "outputId": "4b9ea293-386b-4929-806d-2d337683db6d",
        "colab": {
          "base_uri": "https://localhost:8080/"
        }
      },
      "execution_count": 13,
      "outputs": [
        {
          "output_type": "stream",
          "name": "stdout",
          "text": [
            "all_levels_onehot.npz\t\t   __pycache__\t     train_vae.py\n",
            "example_sampling_random_levels.py  readme.md\t     vae_mario.py\n",
            "models\t\t\t\t   requirements.txt\n",
            "plotting_utilities.py\t\t   sprites\n"
          ]
        }
      ]
    },
    {
      "cell_type": "code",
      "metadata": {
        "id": "5LuG8NIRD1ER"
      },
      "source": [
        "#!cp 'path/to/file' 'path/to/drive'"
      ],
      "execution_count": 14,
      "outputs": []
    },
    {
      "cell_type": "code",
      "metadata": {
        "id": "MIKLfRfB_h0g",
        "outputId": "4c75dc42-06b7-405f-e19c-6db794af6fce",
        "colab": {
          "base_uri": "https://localhost:8080/",
          "height": 183
        }
      },
      "source": [
        "import os\n",
        "os.chdir(\"exercise_DL_pcg\")"
      ],
      "execution_count": 15,
      "outputs": [
        {
          "output_type": "error",
          "ename": "FileNotFoundError",
          "evalue": "ignored",
          "traceback": [
            "\u001b[0;31m---------------------------------------------------------------------------\u001b[0m",
            "\u001b[0;31mFileNotFoundError\u001b[0m                         Traceback (most recent call last)",
            "\u001b[0;32m<ipython-input-15-081099beebe6>\u001b[0m in \u001b[0;36m<module>\u001b[0;34m\u001b[0m\n\u001b[1;32m      1\u001b[0m \u001b[0;32mimport\u001b[0m \u001b[0mos\u001b[0m\u001b[0;34m\u001b[0m\u001b[0;34m\u001b[0m\u001b[0m\n\u001b[0;32m----> 2\u001b[0;31m \u001b[0mos\u001b[0m\u001b[0;34m.\u001b[0m\u001b[0mchdir\u001b[0m\u001b[0;34m(\u001b[0m\u001b[0;34m\"exercise_DL_pcg\"\u001b[0m\u001b[0;34m)\u001b[0m\u001b[0;34m\u001b[0m\u001b[0;34m\u001b[0m\u001b[0m\n\u001b[0m",
            "\u001b[0;31mFileNotFoundError\u001b[0m: [Errno 2] No such file or directory: 'exercise_DL_pcg'"
          ]
        }
      ]
    },
    {
      "cell_type": "code",
      "metadata": {
        "colab": {
          "base_uri": "https://localhost:8080/"
        },
        "id": "vIAxcFkQ_1ef",
        "outputId": "0fc6c6bc-42cc-43b5-db94-0177742ee78c"
      },
      "source": [
        "!ls"
      ],
      "execution_count": 16,
      "outputs": [
        {
          "output_type": "stream",
          "name": "stdout",
          "text": [
            "all_levels_onehot.npz\t\t   __pycache__\t     train_vae.py\n",
            "example_sampling_random_levels.py  readme.md\t     vae_mario.py\n",
            "models\t\t\t\t   requirements.txt\n",
            "plotting_utilities.py\t\t   sprites\n"
          ]
        }
      ]
    },
    {
      "cell_type": "code",
      "metadata": {
        "id": "cZSy0Ez__Ha1"
      },
      "source": [
        "import os\n",
        "import torch\n",
        "import matplotlib.pyplot as plt\n",
        "\n",
        "from vae_mario import VAEMario\n",
        "from plotting_utilities import plot_decoded_level"
      ],
      "execution_count": 17,
      "outputs": []
    },
    {
      "cell_type": "code",
      "metadata": {
        "colab": {
          "base_uri": "https://localhost:8080/"
        },
        "id": "y0Knffku_Ha2",
        "outputId": "6d78ef4c-1738-428c-81e9-46847030bbda"
      },
      "source": [
        "# Loading the model\n",
        "model_name = \"mario_vae_zdim_2_overfitted\"\n",
        "z_dim = 2\n",
        "vae = VAEMario(z_dim=z_dim)\n",
        "vae.load_state_dict(torch.load(f\"./models/{model_name}.pt\"))\n"
      ],
      "execution_count": 9,
      "outputs": [
        {
          "output_type": "stream",
          "name": "stdout",
          "text": [
            "VAEMario(\n",
            "  (encoder): Sequential(\n",
            "    (0): Linear(in_features=2156, out_features=512, bias=True)\n",
            "    (1): ReLU()\n",
            "    (2): Linear(in_features=512, out_features=256, bias=True)\n",
            "    (3): ReLU()\n",
            "  )\n",
            "  (fc_mu): Sequential(\n",
            "    (0): Linear(in_features=256, out_features=2, bias=True)\n",
            "  )\n",
            "  (fc_var): Sequential(\n",
            "    (0): Linear(in_features=256, out_features=2, bias=True)\n",
            "  )\n",
            "  (decoder): Sequential(\n",
            "    (0): Linear(in_features=2, out_features=256, bias=True)\n",
            "    (1): ReLU()\n",
            "    (2): Linear(in_features=256, out_features=512, bias=True)\n",
            "    (3): ReLU()\n",
            "    (4): Linear(in_features=512, out_features=2156, bias=True)\n",
            "  )\n",
            ")\n"
          ]
        },
        {
          "output_type": "execute_result",
          "data": {
            "text/plain": [
              "<All keys matched successfully>"
            ]
          },
          "metadata": {},
          "execution_count": 9
        }
      ]
    },
    {
      "cell_type": "code",
      "metadata": {
        "id": "le-QHFBn_Ha4",
        "outputId": "3cb69564-17ef-4086-db5e-f19807b0ca3a",
        "colab": {
          "base_uri": "https://localhost:8080/"
        }
      },
      "source": [
        "# Sampling random zs\n",
        "zs = 2.5 * torch.randn((4, z_dim))\n",
        "levels = vae.decode(zs)\n",
        "level_1 = levels[0]\n",
        "target = torch.argmax(level_1, dim=0)\n",
        "target\n"
      ],
      "execution_count": 18,
      "outputs": [
        {
          "output_type": "execute_result",
          "data": {
            "text/plain": [
              "tensor([[2, 2, 2, 2, 2, 2, 2, 2, 2, 2, 2, 2, 2, 2],\n",
              "        [2, 2, 2, 2, 2, 2, 2, 2, 2, 2, 2, 2, 2, 2],\n",
              "        [2, 2, 2, 2, 2, 2, 2, 1, 1, 2, 2, 2, 2, 2],\n",
              "        [2, 2, 2, 2, 2, 2, 2, 2, 2, 2, 2, 5, 2, 5],\n",
              "        [2, 2, 2, 2, 2, 2, 2, 2, 2, 0, 0, 0, 0, 0],\n",
              "        [0, 2, 2, 2, 2, 2, 2, 2, 2, 2, 2, 2, 2, 2],\n",
              "        [2, 2, 2, 2, 2, 2, 2, 2, 2, 2, 2, 2, 2, 2],\n",
              "        [2, 2, 2, 2, 2, 2, 2, 2, 2, 2, 2, 2, 2, 2],\n",
              "        [2, 2, 2, 2, 2, 0, 0, 0, 0, 0, 2, 2, 2, 2],\n",
              "        [0, 2, 2, 2, 2, 2, 2, 2, 2, 2, 2, 2, 2, 2],\n",
              "        [2, 2, 2, 2, 2, 2, 2, 2, 2, 2, 2, 2, 2, 2],\n",
              "        [2, 2, 2, 1, 2, 2, 2, 2, 2, 2, 2, 2, 2, 2],\n",
              "        [2, 2, 0, 0, 2, 2, 2, 2, 2, 2, 2, 2, 2, 2],\n",
              "        [2, 2, 2, 2, 2, 2, 2, 2, 2, 2, 2, 2, 2, 2]])"
            ]
          },
          "metadata": {},
          "execution_count": 18
        }
      ]
    },
    {
      "cell_type": "code",
      "source": [
        "z = torch.randn(z_dim)\n",
        "\n",
        "output = torch.argmax(vae.decode(z)[0], dim=0)\n",
        "\n",
        "(output == target).int()\n",
        "zs = [z + 0.1 * torch.randn(2) for z in range(10)]\n",
        "z2 = zs[0]\n",
        "#output2 = torch.argmax(vae.decode(zs[0]), dim=0)\n",
        "output2 = torch.argmax(vae.decode(z2)[0], dim=0)\n",
        "output2\n",
        "(output2 == target).int()\n",
        "\n",
        "\n",
        "\n",
        "#output2"
      ],
      "metadata": {
        "id": "MTvnz7xsA_vE",
        "outputId": "80ff8afd-fbff-4ad6-9ca5-ab1546ee10bc",
        "colab": {
          "base_uri": "https://localhost:8080/"
        }
      },
      "execution_count": 53,
      "outputs": [
        {
          "output_type": "execute_result",
          "data": {
            "text/plain": [
              "tensor([[1, 1, 1, 1, 1, 1, 1, 1, 1, 1, 1, 1, 1, 1],\n",
              "        [1, 1, 1, 1, 1, 1, 1, 1, 1, 1, 1, 1, 1, 1],\n",
              "        [1, 1, 1, 1, 1, 1, 1, 0, 0, 1, 1, 1, 1, 1],\n",
              "        [1, 1, 1, 1, 1, 1, 1, 1, 1, 1, 1, 0, 1, 0],\n",
              "        [1, 1, 1, 1, 1, 1, 1, 1, 1, 0, 0, 0, 0, 0],\n",
              "        [0, 1, 1, 1, 1, 1, 1, 1, 1, 1, 1, 1, 1, 1],\n",
              "        [1, 1, 1, 1, 1, 1, 1, 1, 1, 1, 1, 1, 1, 1],\n",
              "        [1, 1, 1, 1, 1, 1, 1, 1, 1, 1, 1, 1, 1, 1],\n",
              "        [1, 1, 1, 1, 1, 0, 0, 0, 0, 0, 1, 1, 1, 1],\n",
              "        [0, 1, 1, 1, 1, 1, 1, 1, 1, 1, 1, 1, 1, 1],\n",
              "        [1, 1, 1, 1, 1, 1, 1, 1, 1, 1, 1, 1, 1, 1],\n",
              "        [1, 1, 1, 0, 1, 1, 1, 1, 1, 1, 1, 1, 1, 1],\n",
              "        [1, 1, 0, 0, 1, 1, 1, 1, 1, 1, 1, 1, 1, 1],\n",
              "        [0, 0, 0, 0, 0, 0, 0, 0, 0, 0, 0, 0, 0, 0]], dtype=torch.int32)"
            ]
          },
          "metadata": {},
          "execution_count": 53
        }
      ]
    },
    {
      "cell_type": "code",
      "metadata": {
        "id": "Z56bNfog_Ha4"
      },
      "source": [
        "# Getting levels from them using the decoder\n",
        "levels = vae.decode(z2)\n",
        "# print(levels.shape)\n",
        "level_imgs = [plot_decoded_level(level) for level in levels]\n"
      ],
      "execution_count": 55,
      "outputs": []
    },
    {
      "cell_type": "code",
      "metadata": {
        "colab": {
          "base_uri": "https://localhost:8080/",
          "height": 388
        },
        "id": "h1LF6395_Ha5",
        "outputId": "c1f41723-5cb5-4608-fabd-d48e88f932c0"
      },
      "source": [
        "# Plotting\n",
        "_, axes = plt.subplots(1, 4, figsize=(7 * 4, 7))\n",
        "for level_img, ax in zip(level_imgs, axes):\n",
        "    ax.imshow(level_img)\n",
        "    ax.axis(\"off\")\n",
        "\n",
        "plt.tight_layout()\n",
        "plt.show()\n"
      ],
      "execution_count": 12,
      "outputs": [
        {
          "output_type": "display_data",
          "data": {
            "text/plain": [
              "<Figure size 2016x504 with 4 Axes>"
            ],
            "image/png": "[encoded data removed]"
          },
          "metadata": {
            "needs_background": "light"
          }
        }
      ]
    },
    {
      "cell_type": "markdown",
      "metadata": {
        "id": "PbGEOmKCBeMX"
      },
      "source": [
        "# Latent Variable Evolution Lab\n",
        "\n",
        "\n",
        "## Sample from the VAE and then implement some search algorithm of choise to search the latent space for a particular level (e.g. one with many ground tiles)"
      ]
    },
    {
      "cell_type": "code",
      "source": [],
      "metadata": {
        "id": "XEDT995S_x9e"
      },
      "execution_count": 12,
      "outputs": []
    }
  ]
}