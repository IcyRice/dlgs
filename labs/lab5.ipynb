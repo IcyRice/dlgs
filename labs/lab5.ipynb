{
 "cells": [
  {
   "cell_type": "markdown",
   "metadata": {
    "collapsed": false,
    "pycharm": {
     "name": "#%% md\n"
    }
   },
   "source": [
    "# Deep Reinforcement Learning\n",
    "In this lab we will implement and train an agent that uses deep learning to play balance the stick in `CartPole-v1`."
   ]
  },
  {
   "cell_type": "markdown",
   "metadata": {
    "collapsed": false,
    "pycharm": {
     "name": "#%% md\n"
    }
   },
   "source": [
    "## Setup\n",
    "----\n",
    "We import useful packages: `gym`, `torch` stuff, etc.."
   ]
  },
  {
   "cell_type": "markdown",
   "metadata": {
    "collapsed": false,
    "pycharm": {
     "name": "#%% md\n"
    }
   },
   "source": [
    "Imports:"
   ]
  },
  {
   "cell_type": "code",
   "execution_count": 34,
   "metadata": {
    "collapsed": false,
    "pycharm": {
     "name": "#%%\n"
    }
   },
   "outputs": [],
   "source": [
    "import gym\n",
    "\n",
    "import torch\n",
    "import torch.nn as nn\n",
    "import torch.optim as optim\n",
    "import torch.nn.functional as F\n",
    "import random\n",
    "\n",
    "from collections import deque  # for memory\n",
    "from tqdm import tqdm          # for progress bar"
   ]
  },
  {
   "cell_type": "markdown",
   "metadata": {
    "collapsed": false,
    "pycharm": {
     "name": "#%% md\n"
    }
   },
   "source": [
    "How the game looks (without our agent):"
   ]
  },
  {
   "cell_type": "code",
   "execution_count": 2,
   "metadata": {
    "collapsed": false,
    "pycharm": {
     "name": "#%%\n"
    }
   },
   "outputs": [
    {
     "name": "stderr",
     "output_type": "stream",
     "text": [
      "100%|██████████| 10/10 [00:09<00:00,  1.07it/s]\n"
     ]
    }
   ],
   "source": [
    "env = gym.make('CartPole-v1', render_mode='human')\n",
    "for _ in tqdm(range(10)):\n",
    "    state, _ = env.reset()\n",
    "    done = False\n",
    "    while not done:\n",
    "        action = env.action_space.sample()\n",
    "        next_state, reward, done, _, _ = env.step(action)\n",
    "env.close()"
   ]
  },
  {
   "cell_type": "markdown",
   "metadata": {
    "collapsed": false,
    "pycharm": {
     "name": "#%% md\n"
    }
   },
   "source": [
    "## DQN Algorithm\n",
    "-------------\n",
    "We train a policy that tries to maximize the discounted,\n",
    "cumulative reward\n",
    "$R_{t_0} = \\sum_{t=t_0}^{\\infty} \\gamma^{t - t_0} r_t$, where\n",
    "$R_{t_0}$ is *return*. The discount, $\\gamma$ is the discount, between $0$ and $1$\n",
    "\n",
    "\n",
    "Q-learning tries to find a function\n",
    "$Q^*: State \\times Action \\rightarrow \\mathbb{R}$, maximizes rewards:\n",
    "\n",
    "\\begin{align}\\pi^*(s) = \\arg\\!\\max_a \\ Q^*(s, a)\\end{align}\n",
    "\n",
    "However, we don't know $Q^*$. So, we use neural network as a approximators, we can simply create one and train it to resemble $Q^*$.\n",
    "\n",
    "For our training update rule, we'll use a fact that every $Q$\n",
    "function for some policy obeys the Bellman equation:\n",
    "\n",
    "\\begin{align}Q^{\\pi}(s, a) = r + \\gamma Q^{\\pi}(s', \\pi(s'))\\end{align}\n",
    "\n",
    "The difference between the two sides of the equality is known as the temporal difference error, $\\delta$:\n",
    "\n",
    "\\begin{align}\\delta = Q(s, a) - (r + \\gamma \\max_a Q(s', a))\\end{align}"
   ]
  },
  {
   "cell_type": "markdown",
   "metadata": {
    "collapsed": false,
    "pycharm": {
     "name": "#%% md\n"
    }
   },
   "source": [
    "### Model\n",
    "---\n",
    "Make a deep learning based policy model, that takes in a state and outputs an action.\n",
    "This model will be an attribute of the Agent we make next."
   ]
  },
  {
   "cell_type": "code",
   "execution_count": 35,
   "metadata": {
    "collapsed": false,
    "pycharm": {
     "name": "#%%\n"
    }
   },
   "outputs": [],
   "source": [
    "class Model(nn.Module):\n",
    "    def __init__(self, observation_size, action_size):\n",
    "        super(Model, self).__init__()\n",
    "#         # initialise layers here\n",
    "        self.dense1 = nn.Linear(observation_size, 100)\n",
    "        self.dense2 = nn.Linear(100, action_size)\n",
    "\n",
    "    def forward(self, x):\n",
    "        # send x through the network\n",
    "        x = self.dense1(x)\n",
    "        x = F.relu(x)\n",
    "        x = self.dense2(x)        \n",
    "        return x\n",
    "\n",
    "    def predict(self, x):\n",
    "        x = self.forward(x)\n",
    "        return torch.argmax(x)\n"
   ]
  },
  {
   "cell_type": "markdown",
   "metadata": {
    "collapsed": false,
    "pycharm": {
     "name": "#%% md\n"
    }
   },
   "source": [
    "### DQN Agent\n",
    "----\n",
    "We will be using experience replay memory for training our model.\n",
    "An Agent's memory is as important as its model, and will be another attribute of our agent.\n",
    "Other appropriate attributes are the hyperparameters (gamma, lr, etc.).\n",
    "Give the agent a replay method that trains on a batch from its memory.\n"
   ]
  },
  {
   "cell_type": "code",
   "execution_count": 36,
   "metadata": {
    "collapsed": false,
    "pycharm": {
     "name": "#%%\n"
    }
   },
   "outputs": [],
   "source": [
    "from multiprocessing.sharedctypes import Value\n",
    "from random import random\n",
    "from tkinter import Variable\n",
    "\n",
    "\n",
    "class Agent:\n",
    "    def __init__(self, observation_size, action_size):\n",
    "        self.observation_size = observation_size\n",
    "        self.action_size = action_size\n",
    "        self.model = Model(observation_size, action_size)\n",
    "        self.discount_value = 0.1\n",
    "        self.epsilon = 1.0\n",
    "        self.epsilonDecay = 0.99\n",
    "        self.epsilonMin = 0.00\n",
    "        self.criterion = nn.MSELoss()\n",
    "        self.optimizer = optim.Adam(self.model.parameters(), lr=1e-3)\n",
    "        self.memorySize = 1000\n",
    "        self.memory = deque([], self.memorySize)\n",
    "        #self.memory = deque(self.memorySize) # memory that stores N most new transitions\n",
    "        # good place to store hyperparameters as attributes\n",
    "\n",
    "    # add to memory\n",
    "    #def remember(self, state, action, reward, next_state, done):\n",
    "    def remember(self, transition):\n",
    "        self.memory.append(transition)\n",
    "        #if (self.memory.count >= self.memorySize):\n",
    "        #    self.memory.popleft()\n",
    "        #self.memory.append((state, action, reward, next_state, done))\n",
    "        \n",
    "    # return an action from the model\n",
    "    def act(self, state):\n",
    "        if random.uniform(0, 1) < self.epsilon:\n",
    "            action = env.action_space.sample()\n",
    "        else:\n",
    "            action = self.model.predict(state)\n",
    "        \n",
    "        transition = env.step(action)\n",
    "        self.remember(transition)\n",
    "\n",
    "        state = torch.tensor(state, dtype=torch.float32)\n",
    "        \n",
    "        #return self.model.predict(state)\n",
    "        action = self.model.predict(state)\n",
    "        return int(action)\n",
    "        \n",
    "        \n",
    "    # update model based on replay memory\n",
    "    # you might want to make a self.train() helper method\n",
    "    def replay(self, batch_size):\n",
    "        minibatch = random.sample(self.memory, batch_size)\n",
    "        self.optimizer.zero_grad() # clean\n",
    "        for element in minibatch:\n",
    "            self.train(element)\n",
    "\n",
    "        self.epsilon *= self.epsilonDecay\n",
    "        self.optimizer.step()\n",
    "    \n",
    "\n",
    "    def train(self, transition):\n",
    "        s0, a, r, s1, d = transition\n",
    "        pred = self.model.predict(torch.tensor(s0))\n",
    "        if not d:\n",
    "            #value = self.discount_value * torch.argmax(self.act(s0))\n",
    "            #value = self.discount_value * self.model.predict(s1)\n",
    "            value = r + self.discount_value * float(torch.max(self.model.forward(s1)))\n",
    "        else:\n",
    "            value = r\n",
    "        pred = Variable(torch.tensor(pred), requires_grad = True)\n",
    "        reward = Variable(torch.tensor(value))\n",
    "        loss = self.criterion(pred, reward)\n",
    "        loss.backward()\n",
    "        self.optimizer.step()\n"
   ]
  },
  {
   "cell_type": "markdown",
   "metadata": {
    "collapsed": false,
    "pycharm": {
     "name": "#%% md\n"
    }
   },
   "source": [
    "### Main Training loop\n",
    "---\n",
    "Make a function that takes and environment and an agent, and runs through $n$ episodes.\n",
    "Remember to call that agent's replay function to learn from its past (once it has a past).\n"
   ]
  },
  {
   "cell_type": "code",
   "execution_count": 37,
   "metadata": {
    "collapsed": false,
    "pycharm": {
     "name": "#%%\n"
    }
   },
   "outputs": [],
   "source": [
    "def train(env, agent, episodes=1000, batch_size=64):  # train for many games\n",
    "    for _ in tqdm(range(episodes)):\n",
    "        state, _ = env.reset()\n",
    "        done = False\n",
    "        while not done:\n",
    "            # 1. make a move in game.\n",
    "            action = agent.act(state)\n",
    "            next_state, reward, done, _, _, = env.step(action)\n",
    "            # 2. have the agent remember stuff.\n",
    "            #agent.remember()\n",
    "            # 3. update state\n",
    "            state = next_state\n",
    "            # 4. if we have enough experiences in out memory, learn from a batch with replay.\n",
    "            if len(agent.memory) >= batch_size:\n",
    "                agent.replay(batch_size)\n",
    "    env.close()"
   ]
  },
  {
   "cell_type": "markdown",
   "metadata": {
    "collapsed": false,
    "pycharm": {
     "name": "#%% md\n"
    }
   },
   "source": [
    "### Putting it together\n",
    "---\n",
    "We train an agent on the environment:\n"
   ]
  },
  {
   "cell_type": "code",
   "execution_count": 38,
   "metadata": {
    "collapsed": false,
    "pycharm": {
     "name": "#%%\n"
    }
   },
   "outputs": [
    {
     "name": "stderr",
     "output_type": "stream",
     "text": [
      "  0%|          | 0/1000 [00:00<?, ?it/s]\n"
     ]
    },
    {
     "ename": "AttributeError",
     "evalue": "'builtin_function_or_method' object has no attribute 'uniform'",
     "output_type": "error",
     "traceback": [
      "\u001b[1;31m---------------------------------------------------------------------------\u001b[0m",
      "\u001b[1;31mAttributeError\u001b[0m                            Traceback (most recent call last)",
      "\u001b[1;32md:\\Git\\DLGS\\class_repo\\dlgs\\labs\\lab5.ipynb Cell 15\u001b[0m in \u001b[0;36m<cell line: 3>\u001b[1;34m()\u001b[0m\n\u001b[0;32m      <a href='vscode-notebook-cell:/d%3A/Git/DLGS/class_repo/dlgs/labs/lab5.ipynb#X20sZmlsZQ%3D%3D?line=0'>1</a>\u001b[0m env \u001b[39m=\u001b[39m gym\u001b[39m.\u001b[39mmake(\u001b[39m'\u001b[39m\u001b[39mCartPole-v1\u001b[39m\u001b[39m'\u001b[39m)  \u001b[39m# , render_mode='human')\u001b[39;00m\n\u001b[0;32m      <a href='vscode-notebook-cell:/d%3A/Git/DLGS/class_repo/dlgs/labs/lab5.ipynb#X20sZmlsZQ%3D%3D?line=1'>2</a>\u001b[0m agent \u001b[39m=\u001b[39m Agent(env\u001b[39m.\u001b[39mobservation_space\u001b[39m.\u001b[39mshape[\u001b[39m0\u001b[39m], env\u001b[39m.\u001b[39maction_space\u001b[39m.\u001b[39mn)\n\u001b[1;32m----> <a href='vscode-notebook-cell:/d%3A/Git/DLGS/class_repo/dlgs/labs/lab5.ipynb#X20sZmlsZQ%3D%3D?line=2'>3</a>\u001b[0m train(env, agent)\n\u001b[0;32m      <a href='vscode-notebook-cell:/d%3A/Git/DLGS/class_repo/dlgs/labs/lab5.ipynb#X20sZmlsZQ%3D%3D?line=3'>4</a>\u001b[0m torch\u001b[39m.\u001b[39msave(agent\u001b[39m.\u001b[39mmodel\u001b[39m.\u001b[39mstate_dict(), \u001b[39m'\u001b[39m\u001b[39mmodel.pth\u001b[39m\u001b[39m'\u001b[39m)\n",
      "\u001b[1;32md:\\Git\\DLGS\\class_repo\\dlgs\\labs\\lab5.ipynb Cell 15\u001b[0m in \u001b[0;36mtrain\u001b[1;34m(env, agent, episodes, batch_size)\u001b[0m\n\u001b[0;32m      <a href='vscode-notebook-cell:/d%3A/Git/DLGS/class_repo/dlgs/labs/lab5.ipynb#X20sZmlsZQ%3D%3D?line=3'>4</a>\u001b[0m done \u001b[39m=\u001b[39m \u001b[39mFalse\u001b[39;00m\n\u001b[0;32m      <a href='vscode-notebook-cell:/d%3A/Git/DLGS/class_repo/dlgs/labs/lab5.ipynb#X20sZmlsZQ%3D%3D?line=4'>5</a>\u001b[0m \u001b[39mwhile\u001b[39;00m \u001b[39mnot\u001b[39;00m done:\n\u001b[0;32m      <a href='vscode-notebook-cell:/d%3A/Git/DLGS/class_repo/dlgs/labs/lab5.ipynb#X20sZmlsZQ%3D%3D?line=5'>6</a>\u001b[0m     \u001b[39m# 1. make a move in game.\u001b[39;00m\n\u001b[1;32m----> <a href='vscode-notebook-cell:/d%3A/Git/DLGS/class_repo/dlgs/labs/lab5.ipynb#X20sZmlsZQ%3D%3D?line=6'>7</a>\u001b[0m     action \u001b[39m=\u001b[39m agent\u001b[39m.\u001b[39;49mact(state)\n\u001b[0;32m      <a href='vscode-notebook-cell:/d%3A/Git/DLGS/class_repo/dlgs/labs/lab5.ipynb#X20sZmlsZQ%3D%3D?line=7'>8</a>\u001b[0m     next_state, reward, done, _, _, \u001b[39m=\u001b[39m env\u001b[39m.\u001b[39mstep(action)\n\u001b[0;32m      <a href='vscode-notebook-cell:/d%3A/Git/DLGS/class_repo/dlgs/labs/lab5.ipynb#X20sZmlsZQ%3D%3D?line=8'>9</a>\u001b[0m     \u001b[39m# 2. have the agent remember stuff.\u001b[39;00m\n\u001b[0;32m     <a href='vscode-notebook-cell:/d%3A/Git/DLGS/class_repo/dlgs/labs/lab5.ipynb#X20sZmlsZQ%3D%3D?line=9'>10</a>\u001b[0m     \u001b[39m#agent.remember()\u001b[39;00m\n\u001b[0;32m     <a href='vscode-notebook-cell:/d%3A/Git/DLGS/class_repo/dlgs/labs/lab5.ipynb#X20sZmlsZQ%3D%3D?line=10'>11</a>\u001b[0m     \u001b[39m# 3. update state\u001b[39;00m\n",
      "\u001b[1;32md:\\Git\\DLGS\\class_repo\\dlgs\\labs\\lab5.ipynb Cell 15\u001b[0m in \u001b[0;36mAgent.act\u001b[1;34m(self, state)\u001b[0m\n\u001b[0;32m     <a href='vscode-notebook-cell:/d%3A/Git/DLGS/class_repo/dlgs/labs/lab5.ipynb#X20sZmlsZQ%3D%3D?line=30'>31</a>\u001b[0m \u001b[39mdef\u001b[39;00m \u001b[39mact\u001b[39m(\u001b[39mself\u001b[39m, state):\n\u001b[1;32m---> <a href='vscode-notebook-cell:/d%3A/Git/DLGS/class_repo/dlgs/labs/lab5.ipynb#X20sZmlsZQ%3D%3D?line=31'>32</a>\u001b[0m     \u001b[39mif\u001b[39;00m random\u001b[39m.\u001b[39;49muniform(\u001b[39m0\u001b[39m, \u001b[39m1\u001b[39m) \u001b[39m<\u001b[39m \u001b[39mself\u001b[39m\u001b[39m.\u001b[39mepsilon:\n\u001b[0;32m     <a href='vscode-notebook-cell:/d%3A/Git/DLGS/class_repo/dlgs/labs/lab5.ipynb#X20sZmlsZQ%3D%3D?line=32'>33</a>\u001b[0m         action \u001b[39m=\u001b[39m env\u001b[39m.\u001b[39maction_space\u001b[39m.\u001b[39msample()\n\u001b[0;32m     <a href='vscode-notebook-cell:/d%3A/Git/DLGS/class_repo/dlgs/labs/lab5.ipynb#X20sZmlsZQ%3D%3D?line=33'>34</a>\u001b[0m     \u001b[39melse\u001b[39;00m:\n",
      "\u001b[1;31mAttributeError\u001b[0m: 'builtin_function_or_method' object has no attribute 'uniform'"
     ]
    }
   ],
   "source": [
    "env = gym.make('CartPole-v1')  # , render_mode='human')\n",
    "agent = Agent(env.observation_space.shape[0], env.action_space.n)\n",
    "train(env, agent)\n",
    "torch.save(agent.model.state_dict(), 'model.pth')"
   ]
  },
  {
   "cell_type": "markdown",
   "metadata": {
    "collapsed": false,
    "pycharm": {
     "name": "#%% md\n"
    }
   },
   "source": [
    "## Optional (highly recommended): Atari\n",
    "Adapt your agent to play an Atari game of your choice.\n",
    "https://www.gymlibrary.dev/environments/atari/air_raid/"
   ]
  },
  {
   "cell_type": "code",
   "execution_count": null,
   "metadata": {
    "collapsed": false,
    "pycharm": {
     "name": "#%%\n"
    }
   },
   "outputs": [],
   "source": []
  }
 ],
 "metadata": {
  "kernelspec": {
   "display_name": "Python 3.10.7 64-bit (microsoft store)",
   "language": "python",
   "name": "python3"
  },
  "language_info": {
   "codemirror_mode": {
    "name": "ipython",
    "version": 3
   },
   "file_extension": ".py",
   "mimetype": "text/x-python",
   "name": "python",
   "nbconvert_exporter": "python",
   "pygments_lexer": "ipython3",
   "version": "3.10.7"
  },
  "vscode": {
   "interpreter": {
    "hash": "e9b05f680f6df7b8d22e2f5c74b9f0ef195da5195e5f198ec925371741da49e2"
   }
  }
 },
 "nbformat": 4,
 "nbformat_minor": 0
}
