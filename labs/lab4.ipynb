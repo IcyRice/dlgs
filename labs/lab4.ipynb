{
 "cells": [
  {
   "cell_type": "markdown",
   "metadata": {
    "id": "NGzC3uqmuKZB",
    "pycharm": {
     "name": "#%% md\n"
    }
   },
   "source": [
    "# Lab 4: Q-table based reinforcement learning"
   ]
  },
  {
   "cell_type": "markdown",
   "metadata": {
    "id": "KYeKUsX8uXSF",
    "pycharm": {
     "name": "#%% md\n"
    }
   },
   "source": [
    "\n",
    "\n",
    "Solve [`FrozenLake8x8-v1`](https://www.gymlibrary.dev/environments/toy_text/frozen_lake/) using a Q-table.\n"
   ]
  },
  {
   "cell_type": "markdown",
   "metadata": {
    "id": "hGAOGNSWyncb",
    "pycharm": {
     "name": "#%% md\n"
    }
   },
   "source": [
    "1. Import Necessary Packages (e.g. `gym`, `numpy`):"
   ]
  },
  {
   "cell_type": "markdown",
   "metadata": {
    "id": "V7KHXZDxys6J",
    "pycharm": {
     "name": "#%% md\n"
    }
   },
   "source": [
    "\n",
    "2. Instantiate the Environment and Agent"
   ]
  },
  {
   "cell_type": "markdown",
   "metadata": {
    "id": "QMs2BVFZywAJ",
    "pycharm": {
     "name": "#%% md\n"
    }
   },
   "source": [
    "3. Set up the QTable:"
   ]
  },
  {
   "cell_type": "markdown",
   "metadata": {
    "id": "YHuDteJVy2_C",
    "pycharm": {
     "name": "#%% md\n"
    }
   },
   "source": [
    "4. The Q-Learning algorithm training"
   ]
  },
  {
   "cell_type": "markdown",
   "metadata": {
    "id": "Mm8oigYjzFTd",
    "pycharm": {
     "name": "#%% md\n"
    }
   },
   "source": [
    "5. Evaluate how well your agent performs\n",
    "* Render output of one episode\n",
    "* Give an average episode return"
   ]
  },
  {
   "cell_type": "markdown",
   "metadata": {
    "collapsed": false,
    "pycharm": {
     "name": "#%% md\n"
    }
   },
   "source": [
    "6. (<i>Optional</i>) Adapt code for one of the continuous [Classical Control](https://www.gymlibrary.dev/environments/classic_control/) problems. Think/talk about how you could use our  `Model` class from last Thursday to decide actions."
   ]
  },
  {
   "cell_type": "code",
   "execution_count": 3,
   "metadata": {},
   "outputs": [
    {
     "name": "stdout",
     "output_type": "stream",
     "text": [
      "1.0\n",
      "0.5\n",
      "0.3333333333333333\n",
      "0.25\n",
      "0.2\n"
     ]
    }
   ],
   "source": [
    "\n",
    "import numpy as np\n",
    "import gym\n",
    "import random\n",
    "import pygame\n",
    "\n",
    "env = gym.make('FrozenLake-v1', is_slippery=False)\n",
    "\n",
    "class Agent:\n",
    "    def __init__(self):\n",
    "        self.total_episodes = 800000\n",
    "        self.total_test_episodes = 5\n",
    "        self.max_steps = 99\n",
    "        self.learning_rate = 0.3\n",
    "        self.discount_rate = 0.8\n",
    "        self.epsilon = 1.0      # exploration rate\n",
    "        self.max_epsilon = 1.0\n",
    "        self.min_epsilon = 0.01\n",
    "        self.decay_rate = 0.01\n",
    "    def act(self, state, qtable):\n",
    "        #return env.action_space.sample()\n",
    "        return np.argmax(q_table[state, :])\n",
    "    def learn(self, qtable, state):\n",
    "        \n",
    "        for episode in range(self.total_episodes):\n",
    "            state = env.reset()[0]\n",
    "            step = 0\n",
    "            done = False\n",
    "            total_return = 0\n",
    "            for step in range(self.max_steps):\n",
    "                exp_exp_tradeoff = random.uniform(0,1)\n",
    "\n",
    "                if exp_exp_tradeoff > self.epsilon:\n",
    "                    action = self.act(state, q_table)\n",
    "                else:\n",
    "                    action = env.action_space.sample()\n",
    "\n",
    "                new_state, reward, done, _, _ = env.step(action)\n",
    "\n",
    "                qtable[state, action] = qtable[state, action] + self.learning_rate \\\n",
    "                * (reward + self.discount_rate * np.max(qtable[new_state, :]) - qtable[state, action])\n",
    "\n",
    "                state = new_state\n",
    "\n",
    "                total_return += reward\n",
    "\n",
    "                if done == True:\n",
    "                    break\n",
    "\n",
    "            #print(f\"episode return {total_return}\")\n",
    "            self.epsilon = self.min_epsilon + (self.max_epsilon - self.min_epsilon)\\\n",
    "                            * np.exp(-self.decay_rate * episode)    \n",
    "\n",
    "\n",
    "agent = Agent()\n",
    "#q_table = np.zeros(env.observation_space.n, env.action_space.n)\n",
    "q_table = np.random.rand(env.observation_space.n, env.action_space.n)\n",
    "obs = env.reset()[0]\n",
    "agent.learn(q_table, obs)\n",
    "\n",
    "env = gym.make('FrozenLake-v1', is_slippery=False, render_mode='human')\n",
    "\n",
    "\n",
    "for episode in range(agent.total_test_episodes):\n",
    "    obs = env.reset()[0]\n",
    "    step = 0\n",
    "    return_total = 0\n",
    "    done = False\n",
    "    tatal_rewards = 0\n",
    "    while not done:\n",
    "        action = agent.act(obs, q_table)\n",
    "        new_obs, reward, done, _, _ = env.step(action)\n",
    "        return_total += reward\n",
    "        obs = new_obs\n",
    "        \n",
    "    print(return_total / (episode+1))\n",
    "env.close()\n",
    "\n"
   ]
  }
 ],
 "metadata": {
  "colab": {
   "authorship_tag": "ABX9TyOtNkS92UHFInFg+R4UDAlq",
   "name": "Reinforcement_learning.ipynb",
   "provenance": []
  },
  "kernelspec": {
   "display_name": "Python 3.10.7 64-bit (microsoft store)",
   "language": "python",
   "name": "python3"
  },
  "language_info": {
   "codemirror_mode": {
    "name": "ipython",
    "version": 3
   },
   "file_extension": ".py",
   "mimetype": "text/x-python",
   "name": "python",
   "nbconvert_exporter": "python",
   "pygments_lexer": "ipython3",
   "version": "3.10.8"
  },
  "vscode": {
   "interpreter": {
    "hash": "e9b05f680f6df7b8d22e2f5c74b9f0ef195da5195e5f198ec925371741da49e2"
   }
  }
 },
 "nbformat": 4,
 "nbformat_minor": 4
}
