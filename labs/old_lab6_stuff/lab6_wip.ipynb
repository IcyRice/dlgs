{
  "cells": [
    {
      "cell_type": "markdown",
      "metadata": {
        "id": "qyVJJbUL_Haz"
      },
      "source": [
        "## Example to load the network, sample 4 levels at random from the latent space and then plot them using matplotlib.\n"
      ]
    },
    {
      "cell_type": "code",
      "execution_count": null,
      "metadata": {
        "colab": {
          "base_uri": "https://localhost:8080/"
        },
        "id": "iq2ct6jZ_a7G",
        "outputId": "1b3b3d2c-8b9e-43ba-de0a-cdcea75779b6"
      },
      "outputs": [
        {
          "name": "stdout",
          "output_type": "stream",
          "text": [
            "Mounted at /content/drive\n"
          ]
        }
      ],
      "source": [
        "from google.colab import drive\n",
        "drive.mount('/content/drive')"
      ]
    },
    {
      "cell_type": "code",
      "execution_count": 13,
      "metadata": {
        "colab": {
          "base_uri": "https://localhost:8080/"
        },
        "id": "utAMUAFJ_ZMV",
        "outputId": "4b9ea293-386b-4929-806d-2d337683db6d"
      },
      "outputs": [
        {
          "name": "stdout",
          "output_type": "stream",
          "text": [
            "all_levels_onehot.npz\t\t   __pycache__\t     train_vae.py\n",
            "example_sampling_random_levels.py  readme.md\t     vae_mario.py\n",
            "models\t\t\t\t   requirements.txt\n",
            "plotting_utilities.py\t\t   sprites\n"
          ]
        }
      ],
      "source": [
        "!ls"
      ]
    },
    {
      "cell_type": "code",
      "execution_count": 14,
      "metadata": {
        "id": "5LuG8NIRD1ER"
      },
      "outputs": [],
      "source": [
        "#!cp 'path/to/file' 'path/to/drive'"
      ]
    },
    {
      "cell_type": "code",
      "execution_count": 15,
      "metadata": {
        "colab": {
          "base_uri": "https://localhost:8080/",
          "height": 183
        },
        "id": "MIKLfRfB_h0g",
        "outputId": "4c75dc42-06b7-405f-e19c-6db794af6fce"
      },
      "outputs": [
        {
          "ename": "FileNotFoundError",
          "evalue": "ignored",
          "output_type": "error",
          "traceback": [
            "\u001b[0;31m---------------------------------------------------------------------------\u001b[0m",
            "\u001b[0;31mFileNotFoundError\u001b[0m                         Traceback (most recent call last)",
            "\u001b[0;32m<ipython-input-15-081099beebe6>\u001b[0m in \u001b[0;36m<module>\u001b[0;34m\u001b[0m\n\u001b[1;32m      1\u001b[0m \u001b[0;32mimport\u001b[0m \u001b[0mos\u001b[0m\u001b[0;34m\u001b[0m\u001b[0;34m\u001b[0m\u001b[0m\n\u001b[0;32m----> 2\u001b[0;31m \u001b[0mos\u001b[0m\u001b[0;34m.\u001b[0m\u001b[0mchdir\u001b[0m\u001b[0;34m(\u001b[0m\u001b[0;34m\"exercise_DL_pcg\"\u001b[0m\u001b[0;34m)\u001b[0m\u001b[0;34m\u001b[0m\u001b[0;34m\u001b[0m\u001b[0m\n\u001b[0m",
            "\u001b[0;31mFileNotFoundError\u001b[0m: [Errno 2] No such file or directory: 'exercise_DL_pcg'"
          ]
        }
      ],
      "source": [
        "import os\n",
        "os.chdir(\"exercise_DL_pcg\")"
      ]
    },
    {
      "cell_type": "code",
      "execution_count": 16,
      "metadata": {
        "colab": {
          "base_uri": "https://localhost:8080/"
        },
        "id": "vIAxcFkQ_1ef",
        "outputId": "0fc6c6bc-42cc-43b5-db94-0177742ee78c"
      },
      "outputs": [
        {
          "name": "stdout",
          "output_type": "stream",
          "text": [
            "all_levels_onehot.npz\t\t   __pycache__\t     train_vae.py\n",
            "example_sampling_random_levels.py  readme.md\t     vae_mario.py\n",
            "models\t\t\t\t   requirements.txt\n",
            "plotting_utilities.py\t\t   sprites\n"
          ]
        }
      ],
      "source": [
        "!ls"
      ]
    },
    {
      "cell_type": "code",
      "execution_count": 17,
      "metadata": {
        "id": "cZSy0Ez__Ha1"
      },
      "outputs": [],
      "source": [
        "import os\n",
        "import torch\n",
        "import matplotlib.pyplot as plt\n",
        "\n",
        "from vae_mario import VAEMario\n",
        "from plotting_utilities import plot_decoded_level"
      ]
    },
    {
      "cell_type": "code",
      "execution_count": 9,
      "metadata": {
        "colab": {
          "base_uri": "https://localhost:8080/"
        },
        "id": "y0Knffku_Ha2",
        "outputId": "6d78ef4c-1738-428c-81e9-46847030bbda"
      },
      "outputs": [
        {
          "name": "stdout",
          "output_type": "stream",
          "text": [
            "VAEMario(\n",
            "  (encoder): Sequential(\n",
            "    (0): Linear(in_features=2156, out_features=512, bias=True)\n",
            "    (1): ReLU()\n",
            "    (2): Linear(in_features=512, out_features=256, bias=True)\n",
            "    (3): ReLU()\n",
            "  )\n",
            "  (fc_mu): Sequential(\n",
            "    (0): Linear(in_features=256, out_features=2, bias=True)\n",
            "  )\n",
            "  (fc_var): Sequential(\n",
            "    (0): Linear(in_features=256, out_features=2, bias=True)\n",
            "  )\n",
            "  (decoder): Sequential(\n",
            "    (0): Linear(in_features=2, out_features=256, bias=True)\n",
            "    (1): ReLU()\n",
            "    (2): Linear(in_features=256, out_features=512, bias=True)\n",
            "    (3): ReLU()\n",
            "    (4): Linear(in_features=512, out_features=2156, bias=True)\n",
            "  )\n",
            ")\n"
          ]
        },
        {
          "data": {
            "text/plain": [
              "<All keys matched successfully>"
            ]
          },
          "execution_count": 9,
          "metadata": {},
          "output_type": "execute_result"
        }
      ],
      "source": [
        "# Loading the model\n",
        "model_name = \"mario_vae_zdim_2_overfitted\"\n",
        "z_dim = 2\n",
        "vae = VAEMario(z_dim=z_dim)\n",
        "vae.load_state_dict(torch.load(f\"./models/{model_name}.pt\"))\n"
      ]
    },
    {
      "cell_type": "code",
      "execution_count": 84,
      "metadata": {
        "colab": {
          "base_uri": "https://localhost:8080/"
        },
        "id": "le-QHFBn_Ha4",
        "outputId": "20050e3c-1dce-46ab-b355-92bd3bf6aa61"
      },
      "outputs": [
        {
          "data": {
            "text/plain": [
              "tensor([[2, 2, 2, 2, 2, 2, 2, 2, 2, 2, 2, 2, 2, 2],\n",
              "        [2, 2, 2, 2, 2, 2, 2, 2, 2, 2, 2, 2, 2, 2],\n",
              "        [2, 2, 2, 2, 2, 2, 2, 2, 2, 2, 2, 2, 2, 2],\n",
              "        [2, 2, 2, 2, 2, 2, 2, 2, 2, 2, 2, 2, 2, 2],\n",
              "        [2, 2, 2, 2, 2, 2, 2, 2, 2, 2, 2, 2, 2, 2],\n",
              "        [2, 2, 2, 2, 2, 2, 2, 2, 2, 2, 2, 2, 2, 2],\n",
              "        [2, 2, 2, 2, 2, 2, 2, 2, 2, 2, 2, 2, 2, 2],\n",
              "        [2, 2, 2, 2, 2, 2, 2, 2, 2, 2, 2, 2, 2, 2],\n",
              "        [2, 2, 2, 2, 2, 2, 2, 2, 2, 2, 5, 2, 2, 2],\n",
              "        [2, 2, 2, 2, 2, 2, 2, 2, 2, 6, 7, 2, 2, 2],\n",
              "        [2, 2, 2, 2, 2, 2, 2, 2, 2, 8, 9, 2, 2, 2],\n",
              "        [2, 2, 2, 2, 2, 2, 2, 2, 2, 8, 9, 2, 2, 2],\n",
              "        [2, 2, 2, 2, 2, 2, 2, 2, 2, 8, 9, 2, 2, 2],\n",
              "        [0, 0, 0, 0, 0, 0, 0, 0, 0, 0, 0, 0, 0, 0]])"
            ]
          },
          "execution_count": 84,
          "metadata": {},
          "output_type": "execute_result"
        }
      ],
      "source": [
        "# Sampling random zs\n",
        "zs = 2.5 * torch.randn((4, z_dim))\n",
        "levels = vae.decode(zs)\n",
        "level_1 = levels[0]\n",
        "target = torch.argmax(level_1, dim=0)\n",
        "target\n"
      ]
    },
    {
      "cell_type": "code",
      "execution_count": 94,
      "metadata": {
        "colab": {
          "base_uri": "https://localhost:8080/"
        },
        "id": "TkNeO9DTLSQG",
        "outputId": "d153602f-483a-4a76-f139-75ee205d4238"
      },
      "outputs": [
        {
          "data": {
            "text/plain": [
              "tensor(1)"
            ]
          },
          "execution_count": 94,
          "metadata": {},
          "output_type": "execute_result"
        }
      ],
      "source": [
        "\n",
        "z = torch.randn(z_dim)\n",
        "levels = list(map(vae.decode, zs))\n",
        "#loss = lambda level: torch.mean((target - level) **2)\n",
        "loss = lambda level: torch.mean((target - level) **2).detach().item()\n",
        "#list(map(loss, levels)))\n",
        "#list(map(round, map(loss, levels)))\n",
        "torch.argmin(torch.tensor(list(map(loss, levels))))\n"
      ]
    },
    {
      "cell_type": "code",
      "execution_count": null,
      "metadata": {
        "id": "LENSyOgrMCyN"
      },
      "outputs": [],
      "source": []
    },
    {
      "cell_type": "code",
      "execution_count": 85,
      "metadata": {
        "id": "MTvnz7xsA_vE"
      },
      "outputs": [],
      "source": [
        "z = torch.randn(z_dim)\n",
        "\n",
        "output = torch.argmax(vae.decode(z)[0], dim=0)\n",
        "\n",
        "(output == target).int()\n",
        "zs = [z + 0.1 * torch.randn(2) for z in range(10)]\n",
        "z2 = zs[0]\n",
        "#output2 = torch.argmax(vae.decode(zs[0]), dim=0)\n",
        "output2 = torch.argmax(vae.decode(z2)[0], dim=0)\n",
        "#output2\n",
        "#(output2 == target).int()\n",
        "\n",
        "#mapped map(vae.decode, zs)\n",
        "\n",
        "\n",
        "#output2"
      ]
    },
    {
      "cell_type": "code",
      "execution_count": 95,
      "metadata": {
        "colab": {
          "base_uri": "https://localhost:8080/"
        },
        "id": "Jb9oBBNrG6zt",
        "outputId": "bc7f1ca9-8b43-4d29-e35b-62c9f6e7419e"
      },
      "outputs": [
        {
          "data": {
            "text/plain": [
              "tensor([[2, 2, 2, 2, 2, 2, 2, 2, 2, 2, 2, 2, 2, 2],\n",
              "        [2, 2, 2, 2, 2, 2, 2, 2, 2, 2, 2, 2, 2, 2],\n",
              "        [2, 2, 2, 2, 2, 2, 2, 2, 2, 2, 2, 2, 2, 2],\n",
              "        [2, 2, 2, 5, 5, 5, 2, 2, 2, 2, 2, 2, 2, 2],\n",
              "        [0, 0, 0, 0, 0, 0, 0, 0, 0, 2, 2, 2, 2, 2],\n",
              "        [2, 2, 2, 2, 2, 2, 2, 2, 2, 2, 2, 2, 2, 2],\n",
              "        [2, 2, 2, 2, 2, 2, 2, 2, 2, 1, 1, 1, 1, 2],\n",
              "        [2, 2, 2, 2, 2, 2, 2, 2, 2, 2, 2, 2, 2, 2],\n",
              "        [0, 2, 2, 2, 2, 2, 2, 2, 2, 2, 2, 2, 2, 2],\n",
              "        [2, 2, 2, 2, 2, 2, 2, 2, 2, 2, 2, 2, 2, 2],\n",
              "        [2, 2, 2, 2, 2, 2, 2, 2, 2, 2, 2, 2, 2, 2],\n",
              "        [2, 2, 2, 2, 2, 2, 2, 2, 2, 2, 2, 2, 2, 2],\n",
              "        [2, 2, 2, 2, 2, 2, 2, 2, 2, 2, 2, 2, 2, 2],\n",
              "        [2, 2, 2, 2, 2, 2, 2, 2, 2, 2, 0, 0, 0, 0]])"
            ]
          },
          "execution_count": 95,
          "metadata": {},
          "output_type": "execute_result"
        }
      ],
      "source": [
        "# Sampling random zs\n",
        "zs = 2.5 * torch.randn((4, z_dim))\n",
        "levels = vae.decode(zs)\n",
        "level_1 = levels[0]\n",
        "target = torch.argmax(level_1, dim=0)\n",
        "#target\n",
        "torch.argmax(vae.decode(zs)[0], dim=0)\n"
      ]
    },
    {
      "cell_type": "code",
      "execution_count": 97,
      "metadata": {
        "id": "Z56bNfog_Ha4"
      },
      "outputs": [],
      "source": [
        "# Getting levels from them using the decoder\n",
        "levels = vae.decode(zs)\n",
        "# print(levels.shape)\n",
        "level_imgs = [plot_decoded_level(level) for level in levels]\n"
      ]
    },
    {
      "cell_type": "code",
      "execution_count": 98,
      "metadata": {
        "colab": {
          "base_uri": "https://localhost:8080/",
          "height": 388
        },
        "id": "h1LF6395_Ha5",
        "outputId": "b04226ce-a79d-4b18-f8da-8bb8cdf78d21"
      },
      "outputs": [
        {
          "data": {
            "image/png": "[encoded data removed]",
            "text/plain": [
              "<Figure size 2016x504 with 4 Axes>"
            ]
          },
          "metadata": {
            "needs_background": "light"
          },
          "output_type": "display_data"
        }
      ],
      "source": [
        "# Plotting\n",
        "_, axes = plt.subplots(1, 4, figsize=(7 * 4, 7))\n",
        "for level_img, ax in zip(level_imgs, axes):\n",
        "    ax.imshow(level_img)\n",
        "    ax.axis(\"off\")\n",
        "\n",
        "plt.tight_layout()\n",
        "plt.show()\n"
      ]
    },
    {
      "cell_type": "code",
      "execution_count": 83,
      "metadata": {
        "colab": {
          "base_uri": "https://localhost:8080/",
          "height": 925
        },
        "id": "C6AXsazlJ_-z",
        "outputId": "c8960797-203d-40a8-ec4e-371bf180abd3"
      },
      "outputs": [
        {
          "name": "stdout",
          "output_type": "stream",
          "text": [
            "VAEMario(\n",
            "  (encoder): Sequential(\n",
            "    (0): Linear(in_features=2156, out_features=512, bias=True)\n",
            "    (1): ReLU()\n",
            "    (2): Linear(in_features=512, out_features=256, bias=True)\n",
            "    (3): ReLU()\n",
            "  )\n",
            "  (fc_mu): Sequential(\n",
            "    (0): Linear(in_features=256, out_features=2, bias=True)\n",
            "  )\n",
            "  (fc_var): Sequential(\n",
            "    (0): Linear(in_features=256, out_features=2, bias=True)\n",
            "  )\n",
            "  (decoder): Sequential(\n",
            "    (0): Linear(in_features=2, out_features=256, bias=True)\n",
            "    (1): ReLU()\n",
            "    (2): Linear(in_features=256, out_features=512, bias=True)\n",
            "    (3): ReLU()\n",
            "    (4): Linear(in_features=512, out_features=2156, bias=True)\n",
            "  )\n",
            ")\n"
          ]
        },
        {
          "data": {
            "image/png": "[encoded data removed]",
            "text/plain": [
              "<Figure size 2016x504 with 4 Axes>"
            ]
          },
          "metadata": {
            "needs_background": "light"
          },
          "output_type": "display_data"
        },
        {
          "data": {
            "text/plain": [
              "[tensor([-0.0443, -0.1217]),\n",
              " tensor([1.0557, 0.8642]),\n",
              " tensor([2.0642, 1.9338]),\n",
              " tensor([3.0744, 3.0195]),\n",
              " tensor([3.9928, 4.0338]),\n",
              " tensor([4.9285, 4.9859]),\n",
              " tensor([6.0362, 5.8443]),\n",
              " tensor([7.1254, 7.0421]),\n",
              " tensor([7.9418, 8.0736]),\n",
              " tensor([8.9656, 8.9737])]"
            ]
          },
          "execution_count": 83,
          "metadata": {},
          "output_type": "execute_result"
        }
      ],
      "source": [
        "import os\n",
        "import torch\n",
        "import matplotlib.pyplot as plt\n",
        "\n",
        "from vae_mario import VAEMario\n",
        "from plotting_utilities import plot_decoded_level\n",
        "\n",
        "# Loading the model\n",
        "model_name = \"mario_vae_zdim_2_overfitted\"\n",
        "z_dim = 2\n",
        "vae = VAEMario(z_dim=z_dim)\n",
        "vae.load_state_dict(torch.load(f\"./models/{model_name}.pt\"))\n",
        "\n",
        "#target\n",
        "\n",
        "\n",
        "\n",
        "\n",
        "# Sampling random zs\n",
        "zs = 2.5 * torch.randn((4, z_dim))\n",
        "levels = vae.decode(zs)\n",
        "level_1 = levels[0]\n",
        "target = torch.argmax(level_1, dim=0)\n",
        "target\n",
        "\n",
        "z = torch.randn(z_dim)\n",
        "\n",
        "output = torch.argmax(vae.decode(z)[0], dim=0)\n",
        "\n",
        "(output == target).int()\n",
        "zs = [z + 0.1 * torch.randn(2) for z in range(10)]\n",
        "z2 = zs[0]\n",
        "\n",
        "#output2 = torch.argmax(vae.decode(zs[0]), dim=0)\n",
        "output2 = torch.argmax(vae.decode(z2)[0], dim=0)\n",
        "#output2\n",
        "(output2 == target).int()\n",
        "\n",
        "# Getting levels from them using the decoder\n",
        "levels = vae.decode(z2)\n",
        "# print(levels.shape)\n",
        "level_imgs = [plot_decoded_level(level) for level in levels]\n",
        "\n",
        "\n",
        "# Plotting\n",
        "_, axes = plt.subplots(1, 4, figsize=(7 * 4, 7))\n",
        "for level_img, ax in zip(level_imgs, axes):\n",
        "    ax.imshow(level_img)\n",
        "    ax.axis(\"off\")\n",
        "\n",
        "plt.tight_layout()\n",
        "plt.show()\n",
        "\n",
        "zs\n",
        "\n"
      ]
    },
    {
      "cell_type": "markdown",
      "metadata": {
        "id": "PbGEOmKCBeMX"
      },
      "source": [
        "# Latent Variable Evolution Lab\n",
        "\n",
        "\n",
        "## Sample from the VAE and then implement some search algorithm of choise to search the latent space for a particular level (e.g. one with many ground tiles)"
      ]
    },
    {
      "cell_type": "code",
      "execution_count": 12,
      "metadata": {
        "id": "XEDT995S_x9e"
      },
      "outputs": [],
      "source": []
    }
  ],
  "metadata": {
    "colab": {
      "name": "Untitled.ipynb",
      "provenance": []
    },
    "kernelspec": {
      "display_name": "Python 3.10.7 64-bit (microsoft store)",
      "language": "python",
      "name": "python3"
    },
    "language_info": {
      "codemirror_mode": {
        "name": "ipython",
        "version": 3
      },
      "file_extension": ".py",
      "mimetype": "text/x-python",
      "name": "python",
      "nbconvert_exporter": "python",
      "pygments_lexer": "ipython3",
      "version": "3.10.7"
    },
    "vscode": {
      "interpreter": {
        "hash": "e9b05f680f6df7b8d22e2f5c74b9f0ef195da5195e5f198ec925371741da49e2"
      }
    }
  },
  "nbformat": 4,
  "nbformat_minor": 0
}
